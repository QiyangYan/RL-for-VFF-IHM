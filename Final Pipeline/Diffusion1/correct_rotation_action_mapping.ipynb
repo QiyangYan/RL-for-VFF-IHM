{
 "cells": [
  {
   "cell_type": "code",
   "execution_count": null,
   "id": "initial_id",
   "metadata": {
    "collapsed": true
   },
   "source": [
    "import pickle\n",
    "import numpy as np\n",
    "import os\n",
    "import torch\n",
    "import matplotlib.pyplot as plt"
   ],
   "outputs": []
  },
  {
   "metadata": {},
   "cell_type": "code",
   "execution_count": null,
   "source": [
    "def save_as_pickle(data, filename, directory='/Users/qiyangyan/Desktop/TrainingFiles/Diffusion1/demonstration'):\n",
    "    os.makedirs(directory, exist_ok=True)\n",
    "    full_path = os.path.join(directory, filename)\n",
    "\n",
    "    try:\n",
    "        with open(full_path, 'wb') as file:\n",
    "            pickle.dump(data, file)\n",
    "        # print(full_path)\n",
    "        print(f\"Data successfully saved to {full_path}\")\n",
    "    except Exception as e:\n",
    "        print(f\"An error occurred while saving data: {e}\")\n",
    "        \n",
    "def load_pickle(file_path):\n",
    "    try:\n",
    "        with open(file_path, 'rb') as file:\n",
    "            data = pickle.load(file)\n",
    "            return data\n",
    "    except Exception as e:\n",
    "        print(f\"An error occurred: {e}\")\n",
    "        return None"
   ],
   "id": "2941021b3b53f9eb",
   "outputs": []
  },
  {
   "metadata": {},
   "cell_type": "code",
   "execution_count": null,
   "source": [
    "data['actions'] = [[action[0], action[1] * 2 - 1] for action in data['actions']]\n",
    "save_as_pickle(data, \"/Users/qiyangyan/Desktop/Diffusion/Demonstration/bigSteps_10000demos_corrected_data\")\n",
    "\n",
    "for key in data:\n",
    "    print(key, np.shape(data[key]))"
   ],
   "id": "719ec2e5ffc1a22f",
   "outputs": []
  }
 ],
 "metadata": {
  "kernelspec": {
   "display_name": "Python 3",
   "language": "python",
   "name": "python3"
  },
  "language_info": {
   "codemirror_mode": {
    "name": "ipython",
    "version": 2
   },
   "file_extension": ".py",
   "mimetype": "text/x-python",
   "name": "python",
   "nbconvert_exporter": "python",
   "pygments_lexer": "ipython2",
   "version": "2.7.6"
  }
 },
 "nbformat": 4,
 "nbformat_minor": 5
}
