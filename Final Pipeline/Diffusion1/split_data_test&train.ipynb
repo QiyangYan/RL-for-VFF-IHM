{
 "cells": [
  {
   "cell_type": "code",
   "id": "75a39778",
   "metadata": {
    "ExecuteTime": {
     "end_time": "2024-07-19T10:09:31.627420Z",
     "start_time": "2024-07-19T10:09:31.623186Z"
    }
   },
   "source": [
    "import numpy as np\n",
    "import pickle\n",
    "import matplotlib.pyplot as plt"
   ],
   "outputs": [],
   "execution_count": 64
  },
  {
   "metadata": {
    "ExecuteTime": {
     "end_time": "2024-07-19T10:09:31.638440Z",
     "start_time": "2024-07-19T10:09:31.636316Z"
    }
   },
   "cell_type": "code",
   "source": [
    "def load_pickle(file_path):\n",
    "    with open(file_path, 'rb') as f:\n",
    "        return pickle.load(f)"
   ],
   "id": "6957cc5362f3a604",
   "outputs": [],
   "execution_count": 65
  },
  {
   "metadata": {
    "ExecuteTime": {
     "end_time": "2024-07-19T10:09:31.659759Z",
     "start_time": "2024-07-19T10:09:31.656238Z"
    }
   },
   "cell_type": "code",
   "source": [
    "def discretize_action_to_control_mode_E2E(action):\n",
    "    \"\"\"\n",
    "    -1 ~ 1 maps to 0 ~ 1\n",
    "    \"\"\"\n",
    "    # Your action discretization logic here\n",
    "    # print(\"Action: \", action)\n",
    "    action_norm = (action + 1) / 2\n",
    "    # print(action_norm, action)\n",
    "    if 1 / 6 > action_norm >= 0:\n",
    "        # print(\"| Slide up on right finger\")\n",
    "        control_mode = 0\n",
    "        friction_state = 1  # left finger high friction\n",
    "        pos_idx = 0\n",
    "    elif 2 / 6 > action_norm >= 1 / 6:\n",
    "        # print(\"| Slide down on right finger\")\n",
    "        control_mode = 1\n",
    "        friction_state = 1\n",
    "        pos_idx = 1\n",
    "    elif 3 / 6 > action_norm >= 2 / 6:\n",
    "        # print(\"| Slide up on left finger\")\n",
    "        control_mode = 2\n",
    "        friction_state = -1\n",
    "        pos_idx = 1\n",
    "    elif 4 / 6 > action_norm >= 3 / 6:\n",
    "        # print(\"| Slide down on left finger\")\n",
    "        control_mode = 3\n",
    "        friction_state = -1\n",
    "        pos_idx = 0\n",
    "    elif 5 / 6 > action_norm >= 4 / 6:\n",
    "        # print(\"| Rotate clockwise\")\n",
    "        control_mode = 4\n",
    "        friction_state = 0\n",
    "        pos_idx = 0\n",
    "        # print(\"Rotate\")\n",
    "    else:\n",
    "        assert 1 >= action_norm >= 5 / 6, f\"Check: {action_norm}\"\n",
    "        # print(\"| Rotate anticlockwise\")\n",
    "        control_mode = 5\n",
    "        friction_state = 0\n",
    "        pos_idx = 1\n",
    "        # print(pos_idx)\n",
    "        # print(\"Rotate\")\n",
    "    return friction_state, control_mode, pos_idx"
   ],
   "id": "fe9fe3bf773866fb",
   "outputs": [],
   "execution_count": 66
  },
  {
   "metadata": {
    "ExecuteTime": {
     "end_time": "2024-07-19T10:09:31.670766Z",
     "start_time": "2024-07-19T10:09:31.668361Z"
    }
   },
   "cell_type": "code",
   "source": [
    "file_paths = [\n",
    "    \"/Users/qiyangyan/Desktop/TrainingFiles/Real4/Real4/demonstration/cubecylinder_3k5_demos_seed=0\",\n",
    "    \"/Users/qiyangyan/Desktop/TrainingFiles/Real4/Real4/demonstration/cubecylinder_3k5_demos_seed=1\",\n",
    "    \"/Users/qiyangyan/Desktop/TrainingFiles/Real4/Real4/demonstration/cubecylinder_3k5_demos_seed=2\"\n",
    "#     # \"/Users/qiyangyan/Desktop/Diffusion/Demonstration/VFF-bigSteps-10000demos\"\n",
    "]\n",
    "\n",
    "# file_paths = [\n",
    "#     \"/Users/qiyangyan/Desktop/TrainingFiles/Real4/Real4/demonstration/three_cylinder_3k5_demos_seed=0\",\n",
    "#     \"/Users/qiyangyan/Desktop/TrainingFiles/Real4/Real4/demonstration/three_cylinder_3k5_demos_seed=1\",\n",
    "#     \"/Users/qiyangyan/Desktop/TrainingFiles/Real4/Real4/demonstration/three_cylinder_3k5_demos_seed=2\"\n",
    "# ]"
   ],
   "id": "cd3abbd8165b2003",
   "outputs": [],
   "execution_count": 67
  },
  {
   "metadata": {},
   "cell_type": "markdown",
   "source": "# Merge Data",
   "id": "6975135300f94b03"
  },
  {
   "metadata": {
    "ExecuteTime": {
     "end_time": "2024-07-19T10:09:31.795615Z",
     "start_time": "2024-07-19T10:09:31.672455Z"
    }
   },
   "cell_type": "code",
   "source": [
    "merged_data = {}\n",
    "terminal_counts = 0\n",
    "last_goal = np.zeros(9)\n",
    "for file_path in file_paths:\n",
    "    terminal_counts = 0\n",
    "    data = load_pickle(file_path)\n",
    "    if merged_data == {}:\n",
    "        merged_data = {key: [] for key in data.keys()}\n",
    "    terminal_counts = sum(1 for item in data['terminals'] if item == 1)\n",
    "    print(terminal_counts)\n",
    "    \n",
    "    for key in data.keys():\n",
    "        merged_data[key].extend(data[key])  # Assuming each pickle file contains a list, you can modify this based on your data structure"
   ],
   "id": "initial_id",
   "outputs": [
    {
     "name": "stdout",
     "output_type": "stream",
     "text": [
      "3628\n",
      "3508\n",
      "3510\n"
     ]
    }
   ],
   "execution_count": 68
  },
  {
   "metadata": {
    "ExecuteTime": {
     "end_time": "2024-07-19T10:09:31.900511Z",
     "start_time": "2024-07-19T10:09:31.798144Z"
    }
   },
   "cell_type": "code",
   "source": [
    "for key in merged_data.keys():\n",
    "    merged_data[key] = np.array(merged_data[key])\n",
    "    print(key, np.shape(merged_data[key]))"
   ],
   "id": "660af53a",
   "outputs": [
    {
     "name": "stdout",
     "output_type": "stream",
     "text": [
      "observations (82521, 24)\n",
      "next_observations (93138, 24)\n",
      "desired_goals (82521, 11)\n",
      "sampled_desired_goals (82521, 11)\n",
      "actions (82521, 2)\n",
      "rewards (0,)\n",
      "terminals (82521,)\n"
     ]
    }
   ],
   "execution_count": 69
  },
  {
   "metadata": {},
   "cell_type": "markdown",
   "source": "# Preprocess the data",
   "id": "1a4281d7b75bb2c6"
  },
  {
   "metadata": {
    "ExecuteTime": {
     "end_time": "2024-07-19T10:09:31.976303Z",
     "start_time": "2024-07-19T10:09:31.901436Z"
    }
   },
   "cell_type": "code",
   "source": [
    "training_episode = 10000\n",
    "data = merged_data.copy()\n",
    "print(sum(1 for item in data['terminals'] if item == 1))"
   ],
   "id": "2055aae07b06a53f",
   "outputs": [
    {
     "name": "stdout",
     "output_type": "stream",
     "text": [
      "10646\n"
     ]
    }
   ],
   "execution_count": 70
  },
  {
   "metadata": {},
   "cell_type": "markdown",
   "source": "## Get the episode number",
   "id": "727a06d7a6e934ef"
  },
  {
   "metadata": {
    "ExecuteTime": {
     "end_time": "2024-07-19T10:09:32.263133Z",
     "start_time": "2024-07-19T10:09:31.978041Z"
    }
   },
   "cell_type": "code",
   "source": [
    "num_episode = sum(1 for item in data['terminals'] if item == 1)\n",
    "episode_info = {\n",
    "        \"episode_start_idx\": [0],\n",
    "        \"episode_end_idx\": [],\n",
    "        \"remove_episode\": np.zeros(num_episode),\n",
    "    }\n",
    "\n",
    "for i, action in enumerate(data['actions']):\n",
    "    control_mode = discretize_action_to_control_mode_E2E(data['actions'][i][1])[1]\n",
    "    if data['terminals'][i] == 1:\n",
    "        episode_info['episode_end_idx'].append(i)\n",
    "        \n",
    "        if i < len(data['terminals']) - 1:\n",
    "            episode_info['episode_start_idx'].append(i+1)\n",
    "    \n",
    "    episode_idx = len(episode_info['episode_start_idx']) - 1\n",
    "    if control_mode == 4 or control_mode == 5:\n",
    "        if data['terminals'][i] == 1:\n",
    "            pass\n",
    "        else:\n",
    "            # print(i, control_mode, action[1], episode_idx)\n",
    "            episode_info['remove_episode'][episode_idx] = 1\n",
    "    \n",
    "print(len(episode_info['episode_start_idx']))\n",
    "print(len(episode_info['episode_end_idx']))\n",
    "\n",
    "num_remove = sum(1 for item in episode_info['remove_episode'] if item == 1)\n",
    "print(num_remove)\n"
   ],
   "id": "b6cc008506e410f9",
   "outputs": [
    {
     "name": "stdout",
     "output_type": "stream",
     "text": [
      "10646\n",
      "10646\n",
      "4\n"
     ]
    }
   ],
   "execution_count": 71
  },
  {
   "metadata": {},
   "cell_type": "markdown",
   "source": "## Remove the episode",
   "id": "3d70eb0527523d0c"
  },
  {
   "metadata": {
    "ExecuteTime": {
     "end_time": "2024-07-19T10:09:32.289471Z",
     "start_time": "2024-07-19T10:09:32.264029Z"
    }
   },
   "cell_type": "code",
   "source": [
    "for i in reversed(range(len(episode_info['remove_episode']))):\n",
    "    if episode_info['remove_episode'][i] == 1:\n",
    "        start_idx = episode_info['episode_start_idx'][i]\n",
    "        end_idx = episode_info['episode_end_idx'][i]\n",
    "        print(\"remove episode\", i, start_idx, end_idx)\n",
    "        for key in data.keys():\n",
    "            if len(np.shape(data[key])) == 2:\n",
    "                data[key] = np.concatenate((data[key][:start_idx, :], data[key][end_idx + 1:, :]), axis=0)\n",
    "            else:\n",
    "                data[key] = np.concatenate((data[key][:start_idx], data[key][end_idx + 1:]), axis=0)        \n",
    "        print(len(data['terminals']))"
   ],
   "id": "8a4e4fc39b5f6381",
   "outputs": [
    {
     "name": "stdout",
     "output_type": "stream",
     "text": [
      "remove episode 8248 63964 63975\n",
      "82509\n",
      "remove episode 7180 55744 55755\n",
      "82497\n",
      "remove episode 3653 28449 28460\n",
      "82485\n",
      "remove episode 1534 12007 12018\n",
      "82473\n"
     ]
    }
   ],
   "execution_count": 72
  },
  {
   "metadata": {},
   "cell_type": "markdown",
   "source": "## Use goal to reset terminals",
   "id": "85cbb7c2344dffeb"
  },
  {
   "metadata": {
    "ExecuteTime": {
     "end_time": "2024-07-19T10:09:32.477360Z",
     "start_time": "2024-07-19T10:09:32.290955Z"
    }
   },
   "cell_type": "code",
   "source": [
    "print(sum(1 for item in data['terminals'] if item == 1))\n",
    "for i in range(len(data['terminals'])):\n",
    "    if i < len(data['terminals']) - 1:\n",
    "        if data['desired_goals'][i][0] != data['desired_goals'][i+1][0]:\n",
    "            data['terminals'][i] = 1\n",
    "        else:\n",
    "            data['terminals'][i] = 0\n",
    "print(sum(1 for item in data['terminals'] if item == 1))"
   ],
   "id": "cff8fc8945eaa676",
   "outputs": [
    {
     "name": "stdout",
     "output_type": "stream",
     "text": [
      "10642\n",
      "10613\n"
     ]
    }
   ],
   "execution_count": 73
  },
  {
   "metadata": {},
   "cell_type": "markdown",
   "source": "## Remove object velocity from observation",
   "id": "f558262c1e961dc6"
  },
  {
   "metadata": {
    "ExecuteTime": {
     "end_time": "2024-07-19T10:09:32.566031Z",
     "start_time": "2024-07-19T10:09:32.478061Z"
    }
   },
   "cell_type": "code",
   "source": [
    "new_observation = []\n",
    "for i, obs in enumerate(data['observations']):\n",
    "    new_observation.append(np.concatenate((obs[:15], obs[21:]), axis=0))\n",
    "\n",
    "data['observations'] = np.array(new_observation)"
   ],
   "id": "15bc1e5c4224413b",
   "outputs": [],
   "execution_count": 74
  },
  {
   "metadata": {},
   "cell_type": "markdown",
   "source": "## Verify",
   "id": "cc0ad8089c1961d9"
  },
  {
   "metadata": {
    "ExecuteTime": {
     "end_time": "2024-07-19T10:09:32.688578Z",
     "start_time": "2024-07-19T10:09:32.566939Z"
    }
   },
   "cell_type": "code",
   "source": [
    "for i, action in enumerate(data['actions']):\n",
    "    control_mode = discretize_action_to_control_mode_E2E(data['actions'][i][1])[1]\n",
    "    if control_mode == 4 or control_mode == 5:\n",
    "        if data['terminals'][i] == 1:\n",
    "            pass\n",
    "        else:\n",
    "            print(i, control_mode, action[1])\n",
    "print(\"It should print nothing\")\n",
    "\n",
    "for key in data.keys():\n",
    "    print(key, np.shape(data[key]))\n",
    "\n",
    "print(\"Data: \")\n",
    "print(file_paths)"
   ],
   "id": "dfc381d9392487ed",
   "outputs": [
    {
     "name": "stdout",
     "output_type": "stream",
     "text": [
      "It should print nothing\n",
      "observations (82473, 18)\n",
      "next_observations (93090, 24)\n",
      "desired_goals (82473, 11)\n",
      "sampled_desired_goals (82473, 11)\n",
      "actions (82473, 2)\n",
      "rewards (0,)\n",
      "terminals (82473,)\n",
      "Data: \n",
      "['/Users/qiyangyan/Desktop/TrainingFiles/Real4/Real4/demonstration/cubecylinder_3k5_demos_seed=0', '/Users/qiyangyan/Desktop/TrainingFiles/Real4/Real4/demonstration/cubecylinder_3k5_demos_seed=1', '/Users/qiyangyan/Desktop/TrainingFiles/Real4/Real4/demonstration/cubecylinder_3k5_demos_seed=2']\n"
     ]
    }
   ],
   "execution_count": 75
  },
  {
   "metadata": {},
   "cell_type": "markdown",
   "source": "# Split training and testing data",
   "id": "dfcd9f35d8a0cf5c"
  },
  {
   "cell_type": "code",
   "id": "fd7fcec0",
   "metadata": {
    "ExecuteTime": {
     "end_time": "2024-07-19T10:09:32.893627Z",
     "start_time": "2024-07-19T10:09:32.689893Z"
    }
   },
   "source": [
    "terminal_counts = 0\n",
    "data_train = {key: [] for key in data.keys()}\n",
    "data_test = {key: [] for key in data.keys()}\n",
    "\n",
    "for i, item in enumerate(data['terminals']):\n",
    "    if item == 1:\n",
    "        terminal_counts += 1\n",
    "    \n",
    "    if terminal_counts == training_episode:\n",
    "        for key in data.keys():\n",
    "            if len(np.shape(data[key])) == 2:\n",
    "                data_train[key] = data[key][:i+1, :]\n",
    "                data_test[key] = data[key][i+1:, :]\n",
    "            else:\n",
    "                data_train[key] = data[key][:i+1, ]\n",
    "                data_test[key] = data[key][i+1:, ]\n",
    "            print(key, np.shape(data_train[key]))\n",
    "        break\n",
    "\n",
    "terminal_counts = 0\n",
    "for i, item in enumerate(data_train['terminals']):\n",
    "    if item == 1:\n",
    "        terminal_counts += 1\n",
    "print(terminal_counts)\n",
    "\n",
    "terminal_counts = 0\n",
    "for i, item in enumerate(data_test['terminals']):\n",
    "    if item == 1:\n",
    "        terminal_counts += 1\n",
    "print(terminal_counts)\n",
    "\n",
    "# file_path = f'/Users/qiyangyan/Desktop/Diffusion/Demo_random/train_10k_cube_cylinder_noObjVel.pkl'\n",
    "# with open(file_path, 'wb') as file:\n",
    "#     pickle.dump(data_train, file)\n",
    "# \n",
    "# file_path = '/Users/qiyangyan/Desktop/Diffusion/Demo_random/test_10k_cube_cylinder_noObjVel.pkl'\n",
    "# with open(file_path, 'wb') as file:\n",
    "#     pickle.dump(data_test, file)\n",
    "# \n",
    "# print(f\"Data saved to {file_path}\")"
   ],
   "outputs": [
    {
     "name": "stdout",
     "output_type": "stream",
     "text": [
      "observations (77768, 18)\n",
      "next_observations (77768, 24)\n",
      "desired_goals (77768, 11)\n",
      "sampled_desired_goals (77768, 11)\n",
      "actions (77768, 2)\n",
      "rewards (0,)\n",
      "terminals (77768,)\n",
      "10000\n",
      "613\n",
      "Data saved to /Users/qiyangyan/Desktop/Diffusion/Demo_random/test_10k_cube_cylinder_noObjVel.pkl\n"
     ]
    }
   ],
   "execution_count": 76
  }
 ],
 "metadata": {
  "kernelspec": {
   "display_name": "Python 3.8.18 ('SignalProcess')",
   "language": "python",
   "name": "python3"
  },
  "language_info": {
   "codemirror_mode": {
    "name": "ipython",
    "version": 3
   },
   "file_extension": ".py",
   "mimetype": "text/x-python",
   "name": "python",
   "nbconvert_exporter": "python",
   "pygments_lexer": "ipython3",
   "version": "3.8.18"
  },
  "vscode": {
   "interpreter": {
    "hash": "5747a70349e21f71d8b3df92ca5ba3b7fde6b38a509fe8a3ba13d1ee0707547b"
   }
  }
 },
 "nbformat": 4,
 "nbformat_minor": 5
}
