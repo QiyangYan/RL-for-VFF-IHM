{
 "cells": [
  {
   "cell_type": "code",
   "id": "615053bd2700c3d0",
   "metadata": {
    "ExecuteTime": {
     "end_time": "2024-07-18T16:03:52.975739Z",
     "start_time": "2024-07-18T16:03:52.703266Z"
    }
   },
   "source": [
    "import matplotlib.pyplot as plt\n",
    "import numpy as np"
   ],
   "outputs": [],
   "execution_count": 1
  },
  {
   "cell_type": "code",
   "id": "initial_id",
   "metadata": {
    "ExecuteTime": {
     "end_time": "2024-07-18T16:03:52.980295Z",
     "start_time": "2024-07-18T16:03:52.977011Z"
    }
   },
   "source": [
    "def extract_data(filename):\n",
    "    training_iterations = []\n",
    "    bc_loss_values = []\n",
    "    with open(filename, 'r') as infile:\n",
    "        lines = infile.readlines()\n",
    "    for line in lines:\n",
    "        if 'Training iterations' in line:\n",
    "            training_iterations.append(int(line.split(':')[-1].strip()))\n",
    "        elif 'bc_loss' in line:\n",
    "            bc_loss_values.append(float(line.split(':')[-1].strip()))\n",
    "    return training_iterations, bc_loss_values"
   ],
   "outputs": [],
   "execution_count": 2
  },
  {
   "cell_type": "code",
   "id": "98f00b171d5371c0",
   "metadata": {
    "ExecuteTime": {
     "end_time": "2024-07-18T16:03:52.984157Z",
     "start_time": "2024-07-18T16:03:52.980961Z"
    }
   },
   "source": [
    "def extract_data_diff_simpleNN(filename):\n",
    "    training_iterations = []\n",
    "    loss_values = {\n",
    "        \"con\": [],\n",
    "        \"dis_1\": [],\n",
    "        \"dis_2\": []\n",
    "    }\n",
    "    \n",
    "    with open(filename, 'r') as infile:\n",
    "        lines = infile.readlines()\n",
    "    \n",
    "    for line in lines:\n",
    "        line = line.strip()\n",
    "        if 'Training iterations:' in line:\n",
    "            training_iterations.append(int(line.split(':')[-1].strip()))\n",
    "        elif 'bc_loss:' in line:\n",
    "            loss_values[\"con\"].append(float(line.split(':')[-1].strip()))\n",
    "        elif 'mode_loss:' in line:\n",
    "            loss_values[\"dis_1\"].append(float(line.split(':')[-1].strip()))\n",
    "        elif 'end_indicator_loss:' in line:\n",
    "            loss_values[\"dis_2\"].append(float(line.split(':')[-1].strip()))\n",
    "    \n",
    "    return training_iterations, loss_values"
   ],
   "outputs": [],
   "execution_count": 3
  },
  {
   "cell_type": "code",
   "id": "2cdb0dc8fabe367c",
   "metadata": {
    "ExecuteTime": {
     "end_time": "2024-07-18T16:03:52.988322Z",
     "start_time": "2024-07-18T16:03:52.984867Z"
    }
   },
   "source": [
    "files = [\n",
    "    # # # '/Users/qiyangyan/Desktop/Diffusion/Demonstration/Diffusion_1.o9385983',\n",
    "    # # # '/Users/qiyangyan/Desktop/Diffusion/Demonstration/Diffusion_2.o9385987',\n",
    "    # # # '/Users/qiyangyan/Desktop/Diffusion/Demonstration/Diffusion_3.o9385988',\n",
    "    # '/Users/qiyangyan/Desktop/Diffusion/Demonstration/Diffusion_4.o9387215',\n",
    "    # '/Users/qiyangyan/Desktop/Diffusion/Demonstration/Diffusion_5.o9387221',\n",
    "    # # '/Users/qiyangyan/Desktop/Diffusion/Demonstration/Diffusion_6.o9407130',\n",
    "    # # # '/Users/qiyangyan/Desktop/Diffusion/Demonstration/Diffusion_7.o9407128',\n",
    "    # '/Users/qiyangyan/Desktop/Diffusion/Demonstration/Diffusion_8.o9407215',\n",
    "    # '/Users/qiyangyan/Desktop/Diffusion/Demonstration/Diffusion_9.o9407234',\n",
    "    # '/Users/qiyangyan/Desktop/Diffusion/Demonstration/Diffusion_10.o9411153',\n",
    "    # '/Users/qiyangyan/Desktop/Diffusion/Demonstration/Diffusion_11.o9412526',\n",
    "    # # '/Users/qiyangyan/Desktop/Diffusion/Demonstration/Diffusion_12_512.o9415571',\n",
    "    # # '/Users/qiyangyan/Desktop/Diffusion/Demonstration/Diffusion_12_1024.o9416969',\n",
    "    # # # '/Users/qiyangyan/Desktop/Diffusion/Demonstration/Diffusion_13.o9416158',\n",
    "    # # # '/Users/qiyangyan/Desktop/Diffusion/Demonstration/Diffusion_13_512.o9416971',\n",
    "    # # # '/Users/qiyangyan/Desktop/Diffusion/Demonstration/Diffusion_13_1024.o9416992',\n",
    "    # # '/Users/qiyangyan/Desktop/Diffusion/Demonstration/Diffusion_14_512.o9429950',\n",
    "    # # '/Users/qiyangyan/Desktop/Diffusion/Demonstration/Diffusion_14_1024.o9429949',\n",
    "    # # '/Users/qiyangyan/Desktop/Diffusion/Demonstration/Diffusion_15_1024.o9431464',\n",
    "    # # '/Users/qiyangyan/Desktop/Diffusion/Demonstration/Diffusion_16_1024.o9431594',\n",
    "    # # '/Users/qiyangyan/Desktop/Diffusion/Demonstration/Diffusion_17_1024.o9431597',\n",
    "    # # '/Users/qiyangyan/Desktop/Diffusion/Demonstration/Diffusion_18_1024.o9433016',\n",
    "    # '/Users/qiyangyan/Desktop/Diffusion/Demonstration/Diffusion_19_1024.o9469042',\n",
    "    # '/Users/qiyangyan/Desktop/Diffusion/Demonstration/Diffusion_20_1024.o9479091',\n",
    "    # '/Users/qiyangyan/Desktop/Diffusion/Demonstration/Diffusion_21_1024.o9479093',\n",
    "    # '/Users/qiyangyan/Desktop/Diffusion/Demonstration/Diffusion_20_1024_continue_training.o9484559',\n",
    "    # '/Users/qiyangyan/Desktop/Diffusion/Demonstration/Diffusion_21_1024_continue_training.o9484560',\n",
    "    # '/Users/qiyangyan/Desktop/Diffusion/Demonstration/Diffusion_23_5k_822.o9485513',\n",
    "    # '/Users/qiyangyan/Desktop/Diffusion/Demonstration/Diffusion_23_10k_822.o9485515',\n",
    "    # '/Users/qiyangyan/Desktop/Diffusion/Demonstration/Diffusion_23_2k_824.o9485522',\n",
    "    # '/Users/qiyangyan/Desktop/Diffusion/Demonstration/Diffusion_23_5k_824.o9485523',\n",
    "    # '/Users/qiyangyan/Desktop/Diffusion/Demonstration/Diffusion_22_2k_422.o9485588',\n",
    "    # '/Users/qiyangyan/Desktop/Diffusion/Demonstration/Diffusion_22_5k_422.o9485589',\n",
    "    # '/Users/qiyangyan/Desktop/Diffusion/Demonstration/Diffusion_24.o170',\n",
    "    # # '/Users/qiyangyan/Desktop/Diffusion/Demonstration/Diffusion_25.o169',\n",
    "    # '/Users/qiyangyan/Desktop/Diffusion/Demonstration/Diffusion_26.o196',\n",
    "    '/Users/qiyangyan/Desktop/Diffusion/Demonstration/Diffusion_27.o199',\n",
    "    # '/Users/qiyangyan/Desktop/Diffusion/Demonstration/Diffusion_28.o202',\n",
    "    # '/Users/qiyangyan/Desktop/Diffusion/Demonstration/Diffusion_27_2048.o12',\n",
    "    # '/Users/qiyangyan/Desktop/Diffusion/Demonstration/Diffusion_29.o554',\n",
    "    '/Users/qiyangyan/Desktop/Diffusion/Demonstration/Diffusion_32.o621',\n",
    "    # '/Users/qiyangyan/Desktop/Diffusion/Demonstration/train1.o1.log',\n",
    "    # '/Users/qiyangyan/Desktop/Diffusion/Demonstration/train2.o2.log',\n",
    "    # '/Users/qiyangyan/Desktop/Diffusion/Demonstration/train3.o3.log',\n",
    "    # '/Users/qiyangyan/Desktop/Diffusion/Demonstration/Diffusion_31.o683',\n",
    "    # '/Users/qiyangyan/Desktop/Diffusion/Demonstration/Diffusion_38.o818',\n",
    "    # '/Users/qiyangyan/Desktop/Diffusion/Demonstration/Diffusion_39.o819',\n",
    "    # '/Users/qiyangyan/Desktop/Diffusion/Demonstration/Diffusion_40.o820',\n",
    "    # '/Users/qiyangyan/Desktop/Diffusion/Demonstration/Diffusion_41.o834',\n",
    "    # '/Users/qiyangyan/Desktop/Diffusion/Demonstration/Diffusion_42.o837'\n",
    "    '/Users/qiyangyan/Desktop/Diffusion/Demonstration/Diffusion_56.o9772613',\n",
    "    '/Users/qiyangyan/Desktop/Diffusion/Demonstration/Diffusion_57.o9772972',\n",
    "    '/Users/qiyangyan/Desktop/Diffusion/Demonstration/Diffusion_58.o9784045'\n",
    "]\n",
    "# \n",
    "task_name = [\n",
    "#     # # # 'Same observation space as RL',\n",
    "#     # # # 'Pose desired goal',\n",
    "#     # # # 'Pose desired goal with norm',\n",
    "#     # 'Task 1: 1817 demos',  # 'Informative observation space'\n",
    "#     # 'Informative observation space with norm',\n",
    "#     # # 'Task 2: layer_size = 256, ',  # 'Add Rotation 5mm threshold'\n",
    "#     # # # 'Add Rotation 2mm threshold',\n",
    "#     # 'Task 1: 5947 demos', # '5947 demos without R - Informative observation space'\n",
    "#     # # # '5947 demos without R- Informative observation space with norm',\n",
    "#     # 'Task 1: 10000 demos',\n",
    "#     # 'Task 1: 10000 demos with pre-train',\n",
    "#     # # 'Task 2: layer_size = 512',\n",
    "#     # # 'Task 2: layer_size = 1024',\n",
    "#     # # # 'only continuous - layer_size = 256',\n",
    "#     # # # 'only continuous - layer_size = 512',\n",
    "#     # # # 'only continuous - layer_size = 1024',\n",
    "#     # # 'Task 1 - Random_without_R: layer_size = 512',\n",
    "#     # # 'Task 1 - Random_without_R: layer_size = 1024',\n",
    "#     # # 'Task 1 - Random_without_R: layer_size = 1024, obs+action',\n",
    "#     # # 'Task 2 - Random_R: layer_size = 1024',\n",
    "#     # # 'Task 2 - Random_R: layer_size = 1024, obs+action',\n",
    "#     # # 'Task 2: layer_size = 1024, obs+action',\n",
    "#     # 'Task 2: Big Steps',\n",
    "#     'Task 2: Big Steps - 5000',\n",
    "#     'Task 2: Big Steps - 10000',\n",
    "#     # 'Task 2: Big Steps - 5000 continue',\n",
    "#     'Task 2: Big Steps - 10000 continue',\n",
    "#     # '822 5k',\n",
    "#     # '822 10k',\n",
    "#     # '824 2k',\n",
    "#     # '824 5k',\n",
    "#     # '422 2k',\n",
    "#     # '422 5k',\n",
    "#     # '24',\n",
    "#     # # '25',\n",
    "#     # '26',\n",
    "    '27',\n",
    "#     # '28',\n",
    "#     # '27_2048',\n",
    "#     '29: only slide',\n",
    "    '32',\n",
    "#     't1',\n",
    "#     't2',\n",
    "#     't3',\n",
    "#     '31 end indicator',\n",
    "#     '38',\n",
    "#     '39',\n",
    "#     # '40',\n",
    "#     '41',\n",
    "#     '42',\n",
    "    '56',\n",
    "    '57',\n",
    "    '58'\n",
    "]"
   ],
   "outputs": [],
   "execution_count": 4
  },
  {
   "cell_type": "code",
   "id": "d2c2d3c9f25d4c94",
   "metadata": {
    "ExecuteTime": {
     "end_time": "2024-07-18T16:03:52.991876Z",
     "start_time": "2024-07-18T16:03:52.990091Z"
    }
   },
   "source": [
    "# files = [\n",
    "#     '/Users/qiyangyan/Desktop/Diffusion/Demonstration/Diffusion_38.o818',\n",
    "#     '/Users/qiyangyan/Desktop/Diffusion/Demonstration/Diffusion_39.o819',\n",
    "#     # '/Users/qiyangyan/Desktop/Diffusion/Demonstration/Diffusion_40.o820',\n",
    "#     '/Users/qiyangyan/Desktop/Diffusion/Demonstration/Diffusion_41.o834',\n",
    "#     '/Users/qiyangyan/Desktop/Diffusion/Demonstration/Diffusion_42.o837',\n",
    "#     '/Users/qiyangyan/Desktop/Diffusion/Demonstration/Diffusion_43.o838',\n",
    "#     '/Users/qiyangyan/Desktop/Diffusion/Demonstration/Diffusion_44.o839'\n",
    "# ]\n",
    "# \n",
    "# task_name = [\n",
    "#     '38',\n",
    "#     '39',\n",
    "#     # '40',\n",
    "#     '41',\n",
    "#     '42',\n",
    "#     # '43',\n",
    "#     # '44',\n",
    "# ]"
   ],
   "outputs": [],
   "execution_count": 5
  },
  {
   "cell_type": "code",
   "id": "f6fe55bcb87f3431",
   "metadata": {
    "ExecuteTime": {
     "end_time": "2024-07-18T16:03:52.994351Z",
     "start_time": "2024-07-18T16:03:52.992755Z"
    }
   },
   "source": [
    "#  files = [\n",
    "#     '/Users/qiyangyan/Desktop/Diffusion/Demonstration/Diffusion_13.o9416158',\n",
    "#     '/Users/qiyangyan/Desktop/Diffusion/Demonstration/Diffusion_13_512.o9416971',\n",
    "#     '/Users/qiyangyan/Desktop/Diffusion/Demonstration/Diffusion_13_1024.o9416992',\n",
    "# ]\n",
    "# \n",
    "# task_name = [\n",
    "#     'only continuous - layer_size = 256',\n",
    "#     'only continuous - layer_size = 512',\n",
    "#     'only continuous - layer_size = 1024',\n",
    "# ]"
   ],
   "outputs": [],
   "execution_count": 6
  },
  {
   "cell_type": "code",
   "id": "4620bd97484f1301",
   "metadata": {
    "ExecuteTime": {
     "end_time": "2024-07-18T16:03:52.997309Z",
     "start_time": "2024-07-18T16:03:52.995089Z"
    }
   },
   "source": [
    "# files = [\n",
    "#     # '/Users/qiyangyan/Desktop/Diffusion/Demonstration/Diffusion_1.o9385983',\n",
    "#     # '/Users/qiyangyan/Desktop/Diffusion/Demonstration/Diffusion_2.o9385987',\n",
    "#     # '/Users/qiyangyan/Desktop/Diffusion/Demonstration/Diffusion_3.o9385988',\n",
    "#     # '/Users/qiyangyan/Desktop/Diffusion/Demonstration/Diffusion_4.o9387215',\n",
    "#     # '/Users/qiyangyan/Desktop/Diffusion/Demonstration/Diffusion_5.o9387221',\n",
    "#     # '/Users/qiyangyan/Desktop/Diffusion/Demonstration/Diffusion_6.o9407130',\n",
    "#     # '/Users/qiyangyan/Desktop/Diffusion/Demonstration/Diffusion_7.o9407128',\n",
    "#     # '/Users/qiyangyan/Desktop/Diffusion/Demonstration/Diffusion_8.o9407215',\n",
    "#     # '/Users/qiyangyan/Desktop/Diffusion/Demonstration/Diffusion_9.o9407234',\n",
    "#     '/Users/qiyangyan/Desktop/Diffusion/Demonstration/Diffusion_10.o9411153',\n",
    "#     '/Users/qiyangyan/Desktop/Diffusion/Demonstration/Diffusion_11.o9412526',\n",
    "#     '/Users/qiyangyan/Desktop/Diffusion/Demonstration/Diffusion_12_512.o9415571',\n",
    "#     '/Users/qiyangyan/Desktop/Diffusion/Demonstration/Diffusion_12_1024.o9416969',\n",
    "#     # '/Users/qiyangyan/Desktop/Diffusion/Demonstration/Diffusion_13.o9416158',\n",
    "#     # '/Users/qiyangyan/Desktop/Diffusion/Demonstration/Diffusion_13_512.o9416971',\n",
    "#     # '/Users/qiyangyan/Desktop/Diffusion/Demonstration/Diffusion_13_1024.o9416992',\n",
    "# ]\n",
    "# \n",
    "# task_name = [\n",
    "#     # 'Same observation space as RL',\n",
    "#     # 'Pose desired goal',\n",
    "#     # 'Pose desired goal with norm',\n",
    "#     # 'Task 1: 1817 demos',  # 'Informative observation space'\n",
    "#     # 'Informative observation space with norm',\n",
    "#     # 'Task 2: layer_size = 256, ',  # 'Add Rotation 5mm threshold'\n",
    "#     # 'Add Rotation 2mm threshold',\n",
    "#     # 'Task 1: 5947 demos', # '5947 demos without R - Informative observation space'\n",
    "#     # '5947 demos without R- Informative observation space with norm',\n",
    "#     '10000 demos',\n",
    "#     '10000 demos with pre-train',\n",
    "#     'Task 2: layer_size = 512',\n",
    "#     'Task 2: layer_size = 1024',\n",
    "#     # 'only continuous - layer_size = 256',\n",
    "#     # 'only continuous - layer_size = 512',\n",
    "#     # 'only continuous - layer_size = 1024',\n",
    "# ]"
   ],
   "outputs": [],
   "execution_count": 7
  },
  {
   "cell_type": "code",
   "id": "c27dd388db1b6b76",
   "metadata": {
    "ExecuteTime": {
     "end_time": "2024-07-18T16:03:52.999700Z",
     "start_time": "2024-07-18T16:03:52.997956Z"
    }
   },
   "source": [
    "# files = [\n",
    "#     # '/Users/qiyangyan/Desktop/Diffusion/Demonstration/Diffusion_51.o942',\n",
    "#     # '/Users/qiyangyan/Desktop/Diffusion/Demonstration/Diffusion_52.o941'\n",
    "#     # '/Users/qiyangyan/Desktop/Diffusion/Demonstration/Diffusion_53.o990',\n",
    "#     # '/Users/qiyangyan/Desktop/Diffusion/Demonstration/Diffusion_38.o818',\n",
    "#     '/Users/qiyangyan/Desktop/Diffusion/Demonstration/Diffusion_55.o9545012'\n",
    "# ]\n",
    "# \n",
    "# task_name = [\n",
    "#     # '51',\n",
    "#     # '52'\n",
    "#     # '53',\n",
    "#     # '38'\n",
    "#     '55'\n",
    "# ]"
   ],
   "outputs": [],
   "execution_count": 8
  },
  {
   "cell_type": "code",
   "id": "6aea30d67c33edee",
   "metadata": {
    "ExecuteTime": {
     "end_time": "2024-07-18T16:03:53.165459Z",
     "start_time": "2024-07-18T16:03:53.001039Z"
    }
   },
   "source": [
    "plt.figure(figsize=(10, 6))\n",
    "for i, file in enumerate(files):\n",
    "    training_iterations, bc_loss_values = extract_data(file)\n",
    "    training_iterations = [itr / 1000 for itr in training_iterations]\n",
    "    # print(i)\n",
    "    if task_name[i] == 'Informative observation space with norm':\n",
    "        plt.plot(training_iterations[8859:], bc_loss_values[8859:], linestyle='-', label=task_name[i], linewidth=0.3)\n",
    "    elif task_name[i] == 'Task 1: 10000 demos':\n",
    "        plt.plot(training_iterations[:1200], bc_loss_values[:1200], linestyle='-', label=task_name[i], linewidth=0.3, color='blue')\n",
    "    elif task_name[i] == 'Task 1: 10000 demos with pre-train':\n",
    "        plt.plot(np.array(training_iterations[:-1200])+1200, bc_loss_values[:-1200], linestyle='-', linewidth=0.3, color='blue')\n",
    "    elif i == len(task_name)-1:\n",
    "        plt.plot(training_iterations, bc_loss_values, linestyle='-', label=task_name[i], linewidth=1, color='black')\n",
    "    else:\n",
    "        plt.plot(training_iterations, bc_loss_values, linestyle='-', label=task_name[i], linewidth=0.3)\n",
    "\n",
    "    print(f\"{task_name[i]}: \", bc_loss_values[-1])\n",
    "\n",
    "plt.title('bc_loss vs Training Iterations (in Thousands)')\n",
    "plt.xlabel('Training Iterations (Thousands)')\n",
    "# plt.ylim([0, 0.005])\n",
    "plt.ylabel('bc_loss')\n",
    "plt.grid(True)\n",
    "plt.legend()\n",
    "plt.show()"
   ],
   "outputs": [
    {
     "name": "stdout",
     "output_type": "stream",
     "text": [
      "27:  0.023446255633607506\n",
      "32:  0.0034772235061973334\n",
      "56:  0.012442614492028952\n",
      "57:  0.0036990449437871577\n",
      "58:  0.03251753631979227\n"
     ]
    },
    {
     "data": {
      "text/plain": [
       "<Figure size 1000x600 with 1 Axes>"
      ],
      "image/png": "[encoded data removed]"
     },
     "metadata": {},
     "output_type": "display_data"
    }
   ],
   "execution_count": 9
  },
  {
   "cell_type": "code",
   "id": "fec0fa3a1f325181",
   "metadata": {
    "ExecuteTime": {
     "end_time": "2024-07-18T16:03:53.168015Z",
     "start_time": "2024-07-18T16:03:53.166230Z"
    }
   },
   "source": [
    "# file = [\n",
    "#     '/Users/qiyangyan/Desktop/Diffusion/Policies_discrete/Diffusion_2.o1167'\n",
    "# ]\n",
    "# \n",
    "# training_iterations, loss_values = extract_data_diff_simpleNN(file[0])\n",
    "# for key in loss_values.keys():\n",
    "#         print(np.shape(loss_values[key]))\n",
    "\n",
    "# with open(file[0], 'r') as infile:\n",
    "#     lines = infile.readlines()\n",
    "# print(lines)"
   ],
   "outputs": [],
   "execution_count": 10
  },
  {
   "cell_type": "code",
   "id": "e4600569276e1d49",
   "metadata": {
    "ExecuteTime": {
     "end_time": "2024-07-18T16:03:53.171131Z",
     "start_time": "2024-07-18T16:03:53.169181Z"
    }
   },
   "source": [
    "# # Initialize subplots\n",
    "# fig, axs = plt.subplots(3, 1, figsize=(6, 10))\n",
    "# \n",
    "# # Plot each loss value in separate subplots\n",
    "# training_iterations, loss_values = extract_data_diff_simpleNN(file[0])\n",
    "# training_iterations = [itr / 1000 for itr in training_iterations]\n",
    "# \n",
    "# for key in loss_values.keys():\n",
    "#     print(np.shape(loss_values[key]))\n",
    "# \n",
    "# for j, key in enumerate(loss_values.keys()):\n",
    "#     print(f\"Task: {task_name[i]}, Key: {key}, Shape: {np.shape(loss_values[key])}\")\n",
    "#     \n",
    "#     if len(training_iterations) != len(loss_values[key]):\n",
    "#         print(f\"Warning: Length mismatch for {key} in {task_name[i]}\")\n",
    "#     \n",
    "#     axs[j].plot(training_iterations, loss_values[key], linestyle='-', linewidth=0.3)\n",
    "#     axs[j].set_title(f'{key} vs Training Iterations (in Thousands)')\n",
    "#     axs[j].set_xlabel('Training Iterations (Thousands)')\n",
    "#     axs[j].set_ylabel(key)\n",
    "#     axs[j].grid(True)\n",
    "# \n",
    "# # Print the last loss value for each task and key\n",
    "# for key in loss_values.keys():\n",
    "#     print(f\"{task_name[i]} - {key}: \", loss_values[key][-1])\n",
    "# \n",
    "# \n",
    "# plt.tight_layout()\n",
    "# plt.show()"
   ],
   "outputs": [],
   "execution_count": 11
  }
 ],
 "metadata": {
  "kernelspec": {
   "display_name": "Python 3.8.18 ('SignalProcess')",
   "language": "python",
   "name": "python3"
  },
  "language_info": {
   "codemirror_mode": {
    "name": "ipython",
    "version": 3
   },
   "file_extension": ".py",
   "mimetype": "text/x-python",
   "name": "python",
   "nbconvert_exporter": "python",
   "pygments_lexer": "ipython3",
   "version": "3.8.18"
  },
  "vscode": {
   "interpreter": {
    "hash": "5747a70349e21f71d8b3df92ca5ba3b7fde6b38a509fe8a3ba13d1ee0707547b"
   }
  }
 },
 "nbformat": 4,
 "nbformat_minor": 5
}
