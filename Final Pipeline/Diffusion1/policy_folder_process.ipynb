{
 "cells": [
  {
   "cell_type": "code",
   "id": "initial_id",
   "metadata": {
    "collapsed": true,
    "ExecuteTime": {
     "end_time": "2024-05-31T13:00:21.748114Z",
     "start_time": "2024-05-31T13:00:19.468601Z"
    }
   },
   "source": [
    "import os\n",
    "\n",
    "# Path to the directory containing the files\n",
    "directory = \"/Users/qiyangyan/Desktop/Diffusion/Policies/models_19_1024\"\n",
    "\n",
    "# Loop through each file in the directory\n",
    "for filename in os.listdir(directory):\n",
    "    if filename.startswith(\"actor_\") and filename.endswith(\".pth\"):\n",
    "        # Extract the number part from the filename\n",
    "        number_part = int(filename.replace(\"actor_\", \"\").replace(\".pth\", \"\"))\n",
    "        if number_part % 100 != 0:\n",
    "            # If the number is not a multiple of 100, delete the file\n",
    "            os.remove(os.path.join(directory, filename))\n",
    "            print(f\"Deleted: {filename}\")\n",
    "        else:\n",
    "            print(f\"Kept: {filename}\")\n",
    "\n"
   ],
   "execution_count": 1,
   "outputs": []
  }
 ],
 "metadata": {
  "kernelspec": {
   "display_name": "Python 3",
   "language": "python",
   "name": "python3"
  },
  "language_info": {
   "codemirror_mode": {
    "name": "ipython",
    "version": 2
   },
   "file_extension": ".py",
   "mimetype": "text/x-python",
   "name": "python",
   "nbconvert_exporter": "python",
   "pygments_lexer": "ipython2",
   "version": "2.7.6"
  }
 },
 "nbformat": 4,
 "nbformat_minor": 5
}
