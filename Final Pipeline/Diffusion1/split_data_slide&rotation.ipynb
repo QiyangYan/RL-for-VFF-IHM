{
 "cells": [
  {
   "metadata": {
    "ExecuteTime": {
     "end_time": "2024-07-19T10:18:02.647422Z",
     "start_time": "2024-07-19T10:18:02.643038Z"
    }
   },
   "cell_type": "code",
   "source": [
    "import pickle\n",
    "import numpy as np\n",
    "import torch\n",
    "import matplotlib.pyplot as plt\n",
    "import os\n",
    "import rotations\n"
   ],
   "id": "3723a7aac5457982",
   "outputs": [],
   "execution_count": 89
  },
  {
   "metadata": {
    "ExecuteTime": {
     "end_time": "2024-07-19T10:18:02.912424Z",
     "start_time": "2024-07-19T10:18:02.909898Z"
    }
   },
   "cell_type": "code",
   "source": [
    "def load_pickle(file_path):\n",
    "    try:\n",
    "        with open(file_path, 'rb') as file:\n",
    "            data = pickle.load(file)\n",
    "            return data\n",
    "    except Exception as e:\n",
    "        print(f\"An error occurred: {e}\")\n",
    "        return None"
   ],
   "id": "e3e5b0228b1822f3",
   "outputs": [],
   "execution_count": 90
  },
  {
   "metadata": {
    "ExecuteTime": {
     "end_time": "2024-07-19T10:18:02.968080Z",
     "start_time": "2024-07-19T10:18:02.964287Z"
    }
   },
   "cell_type": "code",
   "source": [
    "def discretize_action_to_control_mode_E2E(action):\n",
    "    \"\"\"\n",
    "    -1 ~ 1 maps to 0 ~ 1\n",
    "    \"\"\"\n",
    "    # Your action discretization logic here\n",
    "    # print(\"Action: \", action)\n",
    "    action_norm = (action + 1) / 2\n",
    "    # print(action_norm, action)\n",
    "    if 1 / 6 > action_norm >= 0:\n",
    "        # print(\"| Slide up on right finger\")\n",
    "        control_mode = 0\n",
    "        friction_state = 1  # left finger high friction\n",
    "        pos_idx = 0\n",
    "    elif 2 / 6 > action_norm >= 1 / 6:\n",
    "        # print(\"| Slide down on right finger\")\n",
    "        control_mode = 1\n",
    "        friction_state = 1\n",
    "        pos_idx = 1\n",
    "    elif 3 / 6 > action_norm >= 2 / 6:\n",
    "        # print(\"| Slide up on left finger\")\n",
    "        control_mode = 2\n",
    "        friction_state = -1\n",
    "        pos_idx = 1\n",
    "    elif 4 / 6 > action_norm >= 3 / 6:\n",
    "        # print(\"| Slide down on left finger\")\n",
    "        control_mode = 3\n",
    "        friction_state = -1\n",
    "        pos_idx = 0\n",
    "    elif 5 / 6 > action_norm >= 4 / 6:\n",
    "        # print(\"| Rotate clockwise\")\n",
    "        control_mode = 4\n",
    "        friction_state = 0\n",
    "        pos_idx = 0\n",
    "        # print(\"Rotate\")\n",
    "    else:\n",
    "        assert 1 >= action_norm >= 5 / 6, f\"Check: {action_norm}\"\n",
    "        # print(\"| Rotate anticlockwise\")\n",
    "        control_mode = 5\n",
    "        friction_state = 0\n",
    "        pos_idx = 1\n",
    "        # print(pos_idx)\n",
    "        # print(\"Rotate\")\n",
    "    return friction_state, control_mode, pos_idx"
   ],
   "id": "570861604b4ef82a",
   "outputs": [],
   "execution_count": 91
  },
  {
   "metadata": {
    "ExecuteTime": {
     "end_time": "2024-07-19T10:18:02.995802Z",
     "start_time": "2024-07-19T10:18:02.992435Z"
    }
   },
   "cell_type": "code",
   "source": [
    "def compute_goal_radi(a, b, left_motor=[0.037012, -0.1845, 0.002], right_motor=[-0.037488, -0.1845, 0.002]):\n",
    "    '''\n",
    "    a is the left contact point,\n",
    "    b is the right contact point\n",
    "    '''\n",
    "    # print(\"compute: \", a, b)\n",
    "    a[2] = 0.002\n",
    "    b[2] = 0.002\n",
    "\n",
    "    # left_motor = [0.037012, -0.1845, 0.002]\n",
    "    # right_motor = [-0.037488, -0.1845, 0.002]\n",
    "\n",
    "    # print(\"Check radius: \", a, b, left_motor, right_motor)\n",
    "    assert left_motor[2] == 0.002 and right_motor[2] == 0.002, f\"Wrong motor height, check: {left_motor[2], right_motor[2]}\"\n",
    "\n",
    "    assert a.shape == b.shape\n",
    "    assert a.shape[-1] == 3\n",
    "\n",
    "    radius_al = np.zeros_like(a[..., 0])\n",
    "    radius_br = np.zeros_like(b[..., 0])\n",
    "\n",
    "    delta_r_a_left_motor = a[..., :3] - left_motor  # pos of motor left\n",
    "    radius_al = np.linalg.norm(delta_r_a_left_motor, axis=-1)\n",
    "\n",
    "    delta_r_b_right_motor = b[..., :3] - right_motor  # pos of motor right\n",
    "    radius_br = np.linalg.norm(delta_r_b_right_motor, axis=-1)\n",
    "\n",
    "    goal_radi = [radius_al,radius_br]\n",
    "\n",
    "    return goal_radi"
   ],
   "id": "7eab4c33d412ddc",
   "outputs": [],
   "execution_count": 92
  },
  {
   "metadata": {
    "ExecuteTime": {
     "end_time": "2024-07-19T10:18:03.022185Z",
     "start_time": "2024-07-19T10:18:03.016899Z"
    }
   },
   "cell_type": "code",
   "source": [
    "def compute_orientation_diff(goal_a, goal_b):\n",
    "    ''' get pos difference and rotation difference\n",
    "    left motor pos: 0.037012 -0.1845 0.002\n",
    "    right motor pos: -0.037488 -0.1845 0.002\n",
    "    '''\n",
    "    assert goal_a.shape == goal_b.shape, f\"Check: {goal_a.shape}, {goal_b.shape}\"\n",
    "    assert goal_a.shape[-1] == 7\n",
    "    goal_a[2] = goal_b[2]\n",
    "\n",
    "    d_pos = np.zeros_like(goal_a[..., 0])\n",
    "\n",
    "    delta_pos = goal_a[..., :3] - goal_b[..., :3]\n",
    "    d_pos = np.linalg.norm(delta_pos, axis=-1)\n",
    "\n",
    "    quat_a, quat_b = goal_a[..., 3:], goal_b[..., 3:]\n",
    "\n",
    "    euler_a = rotations.quat2euler(quat_a)\n",
    "    euler_b = rotations.quat2euler(quat_b)\n",
    "    if euler_a.ndim == 1:\n",
    "        euler_a = euler_a[np.newaxis, :]  # Reshape 1D to 2D (1, 3)\n",
    "    if euler_b.ndim == 1:\n",
    "        euler_b = euler_b[np.newaxis, :]  # Reshape 1D to 2D (1, 3)\n",
    "    euler_a[:, :2] = euler_b[:, :2]  # make the second and third term of euler angle the same\n",
    "    quat_a = rotations.euler2quat(euler_a)\n",
    "    quat_a = quat_a.reshape(quat_b.shape)\n",
    "\n",
    "    # print(quat_a, quat_b)\n",
    "    quat_diff = rotations.quat_mul(quat_a, rotations.quat_conjugate(quat_b))  # q_diff = q1 * q2*\n",
    "    angle_diff = 2 * np.arccos(np.clip(quat_diff[..., 0], -1.0, 1.0))\n",
    "    d_rot = angle_diff\n",
    "    return d_pos, d_rot"
   ],
   "id": "21f9c82c19cf1d87",
   "outputs": [],
   "execution_count": 93
  },
  {
   "metadata": {
    "ExecuteTime": {
     "end_time": "2024-07-19T10:18:03.056475Z",
     "start_time": "2024-07-19T10:18:03.053974Z"
    }
   },
   "cell_type": "code",
   "source": [
    "def save_as_pickle(data, filename, directory='/Users/qiyangyan/Desktop/Diffusion/Demo_random'):\n",
    "    os.makedirs(directory, exist_ok=True)\n",
    "    full_path = os.path.join(directory, filename)\n",
    "\n",
    "    try:\n",
    "        with open(full_path, 'wb') as file:\n",
    "            pickle.dump(data, file)\n",
    "        # print(full_path)\n",
    "        print(f\"Data successfully saved to {full_path}\")\n",
    "    except Exception as e:\n",
    "        print(f\"An error occurred while saving data: {e}\")"
   ],
   "id": "760a3538c10e6819",
   "outputs": [],
   "execution_count": 94
  },
  {
   "metadata": {
    "ExecuteTime": {
     "end_time": "2024-07-19T10:18:03.082889Z",
     "start_time": "2024-07-19T10:18:03.080989Z"
    }
   },
   "cell_type": "code",
   "source": [
    "# pickle_file_path = '/Users/qiyangyan/Desktop/Diffusion/Demonstration/VFF-bigSteps-10000demos'\n",
    "# pickle_file_path = '/Users/qiyangyan/Desktop/TrainingFiles/Real4/Real4/demonstration/VFF-bigSteps-2000demos-randomise_1_repeat'\n",
    "# pickle_file_path = '/Users/qiyangyan/Desktop/Diffusion/Demonstration/VFF-bigSteps-testingDataset'\n",
    "# data = load_pickle(pickle_file_path)"
   ],
   "id": "initial_id",
   "outputs": [],
   "execution_count": 95
  },
  {
   "metadata": {
    "ExecuteTime": {
     "end_time": "2024-07-19T10:18:03.138609Z",
     "start_time": "2024-07-19T10:18:03.107857Z"
    }
   },
   "cell_type": "code",
   "source": [
    "from collections import defaultdict\n",
    "\n",
    "# pickle_file_path = '/Users/qiyangyan/Desktop/TrainingFiles/Real4/Real4/demonstration/VFF_bigSteps_20kDataset_seed_0'\n",
    "# pickle_file_path = '/Users/qiyangyan/Desktop/TrainingFiles/Real4/Real4/demonstration/VFF_bigSteps_20kDataset_seed_2'\n",
    "# pickle_file_path = '/Users/qiyangyan/Desktop/Diffusion/Demonstration/VFF_bigSteps_20kDataset_withJointDR_seed_2'\n",
    "# pickle_file_path = '/Users/qiyangyan/Desktop/TrainingFiles/Real4/Real4/demonstration/VFF_random_big_steps_cube_seed2'\n",
    "# pickle_file_path = '/Users/qiyangyan/Desktop/Diffusion/Demo_random/test_10k_cube_cylinder.pkl'\n",
    "# pickle_file_path = '/Users/qiyangyan/Desktop/Diffusion/Demonstration/VFF-bigSteps-10000demos'\n",
    "# pickle_file_path = '/Users/qiyangyan/Desktop/Diffusion/Demo_random/train_10k_three_cylinder_noObjVel.pkl'\n",
    "pickle_file_path = '/Users/qiyangyan/Desktop/Diffusion/Demo_random/train_10k_cube_cylinder_noObjVel.pkl'\n",
    "data = load_pickle(pickle_file_path)\n",
    "\n",
    "# pickle_file_path = [\n",
    "#     '/Users/qiyangyan/Desktop/TrainingFiles/Real4/Real4/demonstration/VFF_bigSteps_20kDataset_seed_0',\n",
    "#     '/Users/qiyangyan/Desktop/TrainingFiles/Real4/Real4/demonstration/VFF_bigSteps_20kDataset_seed_1',\n",
    "#     '/Users/qiyangyan/Desktop/TrainingFiles/Real4/Real4/demonstration/VFF_bigSteps_20kDataset_seed_2'\n",
    "# ]\n",
    "\n",
    "# pickle_file_path = [\n",
    "#     '/Users/qiyangyan/Desktop/Diffusion/Demonstration/VFF_bigSteps_20kDataset_withJointDR_seed_0',\n",
    "#     '/Users/qiyangyan/Desktop/Diffusion/Demonstration/VFF_bigSteps_20kDataset_withJointDR_seed_1',\n",
    "#     '/Users/qiyangyan/Desktop/Diffusion/Demonstration/VFF_bigSteps_20kDataset_withJointDR_seed_2'\n",
    "# ]\n",
    "\n",
    "# pickle_file_path = [\n",
    "#     '/Users/qiyangyan/Desktop/Diffusion/Demonstration/VFF_random_big_steps_cube_seed0',\n",
    "#     '/Users/qiyangyan/Desktop/Diffusion/Demonstration/VFF_random_big_steps_cube_seed1',\n",
    "#     '/Users/qiyangyan/Desktop/Diffusion/Demonstration/VFF_random_big_steps_cube_seed2'\n",
    "# ]\n",
    "\n",
    "if len(np.shape(pickle_file_path)) == 0:\n",
    "    data = load_pickle(pickle_file_path)\n",
    "else:\n",
    "    merged_dict = defaultdict(list)\n",
    "    print(merged_dict)\n",
    "\n",
    "    data_dicts = []\n",
    "    for path in pickle_file_path:\n",
    "        data_dicts.append(load_pickle(path))\n",
    "\n",
    "    for d in data_dicts:\n",
    "        for key, value in d.items():\n",
    "            # Extend the list at the current key with the new values\n",
    "            merged_dict[key].extend(value)\n",
    "\n",
    "    data = dict(merged_dict)"
   ],
   "id": "5588f294ee9cdb72",
   "outputs": [],
   "execution_count": 96
  },
  {
   "metadata": {
    "ExecuteTime": {
     "end_time": "2024-07-19T10:18:03.152979Z",
     "start_time": "2024-07-19T10:18:03.148090Z"
    }
   },
   "cell_type": "code",
   "source": [
    "print(data.keys())\n",
    "for key in data.keys():\n",
    "    print(np.shape(data[key]))"
   ],
   "id": "a31b67a863569c28",
   "outputs": [
    {
     "name": "stdout",
     "output_type": "stream",
     "text": [
      "dict_keys(['observations', 'next_observations', 'desired_goals', 'sampled_desired_goals', 'actions', 'rewards', 'terminals'])\n",
      "(77768, 18)\n",
      "(77768, 24)\n",
      "(77768, 11)\n",
      "(77768, 11)\n",
      "(77768, 2)\n",
      "(0,)\n",
      "(77768,)\n"
     ]
    }
   ],
   "execution_count": 97
  },
  {
   "metadata": {
    "ExecuteTime": {
     "end_time": "2024-07-19T10:18:03.279550Z",
     "start_time": "2024-07-19T10:18:03.202819Z"
    }
   },
   "cell_type": "code",
   "source": [
    "count = 0\n",
    "for item in data['terminals']:\n",
    "    if item == 1:\n",
    "        count += 1\n",
    "print(count)"
   ],
   "id": "d3b59cb3488e913e",
   "outputs": [
    {
     "name": "stdout",
     "output_type": "stream",
     "text": [
      "10000\n"
     ]
    }
   ],
   "execution_count": 98
  },
  {
   "metadata": {
    "ExecuteTime": {
     "end_time": "2024-07-19T10:18:03.283558Z",
     "start_time": "2024-07-19T10:18:03.280994Z"
    }
   },
   "cell_type": "code",
   "source": "# data['actions'] = [[action[0], action[1] * 2 - 1] for action in data['actions']]",
   "id": "c7c0d089f5fc9863",
   "outputs": [],
   "execution_count": 99
  },
  {
   "metadata": {
    "ExecuteTime": {
     "end_time": "2024-07-19T10:18:03.291258Z",
     "start_time": "2024-07-19T10:18:03.284564Z"
    }
   },
   "cell_type": "code",
   "source": [
    "count = 0\n",
    "for item in data['terminals']:\n",
    "    if item:\n",
    "        count += 1\n",
    "print(count)\n",
    "print(data['terminals'][:20])"
   ],
   "id": "962c0a7930f2041a",
   "outputs": [
    {
     "name": "stdout",
     "output_type": "stream",
     "text": [
      "10000\n",
      "[0. 0. 0. 0. 0. 0. 0. 1. 0. 0. 0. 0. 0. 0. 1. 0. 0. 0. 0. 0.]\n"
     ]
    }
   ],
   "execution_count": 100
  },
  {
   "metadata": {
    "ExecuteTime": {
     "end_time": "2024-07-19T10:18:03.294236Z",
     "start_time": "2024-07-19T10:18:03.292495Z"
    }
   },
   "cell_type": "code",
   "source": [
    "# for i, terminal in enumerate(data['terminals']):\n",
    "#     if terminal == 1:\n",
    "#         data['actions'][i][1] = data['actions'][i][1] * 2 - 1"
   ],
   "id": "113092d418fdfab",
   "outputs": [],
   "execution_count": 101
  },
  {
   "metadata": {},
   "cell_type": "markdown",
   "source": "# Split demonstration into sliding and rotation",
   "id": "9715d1c8cff4df1e"
  },
  {
   "metadata": {
    "ExecuteTime": {
     "end_time": "2024-07-19T10:18:03.332Z",
     "start_time": "2024-07-19T10:18:03.329132Z"
    }
   },
   "cell_type": "code",
   "source": [
    "bigSteps_10000demos_rotation = {key: [] for key in data.keys()}\n",
    "print(bigSteps_10000demos_rotation)\n",
    "bigSteps_10000demos_slide = {key: [] for key in data.keys()}\n",
    "print(bigSteps_10000demos_slide)"
   ],
   "id": "954b6de02cd5d712",
   "outputs": [
    {
     "name": "stdout",
     "output_type": "stream",
     "text": [
      "{'observations': [], 'next_observations': [], 'desired_goals': [], 'sampled_desired_goals': [], 'actions': [], 'rewards': [], 'terminals': []}\n",
      "{'observations': [], 'next_observations': [], 'desired_goals': [], 'sampled_desired_goals': [], 'actions': [], 'rewards': [], 'terminals': []}\n"
     ]
    }
   ],
   "execution_count": 102
  },
  {
   "metadata": {},
   "cell_type": "markdown",
   "source": "## Testing Data",
   "id": "7247a7e4678a39ad"
  },
  {
   "metadata": {
    "ExecuteTime": {
     "end_time": "2024-07-19T10:18:03.358768Z",
     "start_time": "2024-07-19T10:18:03.356404Z"
    }
   },
   "cell_type": "code",
   "source": [
    "# count = 0\n",
    "# for i, action in enumerate(data['actions']):\n",
    "#     control_mode = discretize_action_to_control_mode_E2E(action[1])[1]\n",
    "#     if control_mode == 5 or control_mode == 4:\n",
    "#         count += 1\n",
    "#         # if count > 10999:\n",
    "#         if count > 999:\n",
    "#             for key in data.keys():\n",
    "#                 if len(data[key]) > i:\n",
    "#                     if key == 'desired_goals':\n",
    "#                         bigSteps_10000demos_rotation[key].append(data[key][i][:-2])\n",
    "#                     else:\n",
    "#                         bigSteps_10000demos_rotation[key].append(data[key][i])\n",
    "#                     # bigSteps_10000demos_rotation[key].append(data[key][i])  # TODO: Uncomment this for 11 element \n",
    "#         bigSteps_10000demos_slide['terminals'][-1] = 1\n",
    "#     else:\n",
    "#         # if count > 10999:\n",
    "#         if count > 999:\n",
    "#             for key in data.keys():\n",
    "#                 if len(data[key]) > i:\n",
    "#                     if key == 'desired_goals':\n",
    "#                         bigSteps_10000demos_slide[key].append(data[key][i][:-2])\n",
    "#                     else:\n",
    "#                         bigSteps_10000demos_slide[key].append(data[key][i])\n",
    "#                     # bigSteps_10000demos_slide[key].append(data[key][i])  # TODO: Uncomment this for 11 element \n",
    "#         if data['terminals'][i] == 1:\n",
    "#             count += 1\n",
    "#             bigSteps_10000demos_slide['terminals'][-1] = 1\n",
    "# \n",
    "# for key in bigSteps_10000demos_slide.keys():\n",
    "#     bigSteps_10000demos_rotation[key] = np.array(bigSteps_10000demos_rotation[key])\n",
    "#     bigSteps_10000demos_slide[key] = np.array(bigSteps_10000demos_slide[key])\n",
    "# \n",
    "# print(\"| bigSteps_10000demos_rotation\")\n",
    "# for key in data:\n",
    "#     print(key, np.shape(bigSteps_10000demos_rotation[key]))\n",
    "# \n",
    "# print(\"| bigSteps_10000demos_slide\")\n",
    "# for key in data:\n",
    "#     print(key, np.shape(bigSteps_10000demos_slide[key]))\n",
    "# print(count)"
   ],
   "id": "c7107c4c043a3a32",
   "outputs": [],
   "execution_count": 103
  },
  {
   "metadata": {
    "ExecuteTime": {
     "end_time": "2024-07-19T10:18:03.442588Z",
     "start_time": "2024-07-19T10:18:03.440434Z"
    }
   },
   "cell_type": "code",
   "source": [
    "# # save_as_pickle(bigSteps_10000demos_rotation, \"bigSteps_50kdemos_rotation_testingDataset\")\n",
    "# # save_as_pickle(bigSteps_10000demos_slide, \"bigSteps_50kdemos_slide_testingDataset\")\n",
    "# \n",
    "# save_as_pickle(bigSteps_10000demos_rotation, \"bigSteps_50kdemos_rotation_withDR_testingDataset\")\n",
    "# save_as_pickle(bigSteps_10000demos_slide, \"bigSteps_50kdemos_slide_withDR_testingDataset\")\n",
    "# \n",
    "# for key in data:\n",
    "#     print(key, np.shape(bigSteps_10000demos_rotation[key]))\n",
    "# \n",
    "# for key in data:\n",
    "#     print(key, np.shape(bigSteps_10000demos_slide[key]))"
   ],
   "id": "636296326a808d3d",
   "outputs": [],
   "execution_count": 104
  },
  {
   "metadata": {},
   "cell_type": "markdown",
   "source": "## Training data",
   "id": "b8ee2586fb8f416f"
  },
  {
   "metadata": {
    "ExecuteTime": {
     "end_time": "2024-07-19T10:18:03.670151Z",
     "start_time": "2024-07-19T10:18:03.481757Z"
    }
   },
   "cell_type": "code",
   "source": [
    "print(sum(1 for item in data['terminals'] if item == 1))\n",
    "for i, item in enumerate(data['terminals']):\n",
    "    control_mode = discretize_action_to_control_mode_E2E(data['actions'][i][1])[1]\n",
    "    if control_mode == 4 or control_mode == 5:\n",
    "        assert item == 1, f\"Check: {i}\""
   ],
   "id": "cd93ab71969d16b3",
   "outputs": [
    {
     "name": "stdout",
     "output_type": "stream",
     "text": [
      "10000\n"
     ]
    }
   ],
   "execution_count": 105
  },
  {
   "metadata": {
    "ExecuteTime": {
     "end_time": "2024-07-19T10:18:04.217255Z",
     "start_time": "2024-07-19T10:18:03.671637Z"
    }
   },
   "cell_type": "code",
   "source": [
    "count = 0\n",
    "for i, action in enumerate(data['actions']):\n",
    "    # if count >= 10000:\n",
    "    #     break\n",
    "    control_mode = discretize_action_to_control_mode_E2E(action[1])[1]\n",
    "    if control_mode == 5 or control_mode == 4:\n",
    "        count += 1\n",
    "        assert data['terminals'][i] == 1, f\"check: {data['terminals'][i]}\"\n",
    "        for key in data.keys():\n",
    "            if len(data[key]) > i:\n",
    "                if key == 'desired_goals':\n",
    "                    bigSteps_10000demos_rotation[key].append(data[key][i][:-2])\n",
    "                else:\n",
    "                    bigSteps_10000demos_rotation[key].append(data[key][i])\n",
    "                # bigSteps_10000demos_rotation[key].append(data[key][i])  # TODO: Uncomment this for 11 element \n",
    "        # bigSteps_10000demos_slide['terminals'][-1] = 1\n",
    "\n",
    "    else:\n",
    "        for key in data.keys():\n",
    "            if len(data[key]) > i:\n",
    "                if key == 'desired_goals':\n",
    "                    bigSteps_10000demos_slide[key].append(data[key][i][:-2])\n",
    "                else:\n",
    "                    bigSteps_10000demos_slide[key].append(data[key][i])\n",
    "        if data['terminals'][i] == 1:\n",
    "            count += 1\n",
    "            # bigSteps_10000demos_slide['terminals'][-1] = 1\n",
    "            # bigSteps_10000demos_slide[key].append(data[key][i])  # TODO: Uncomment this for 11 element \n",
    "\n",
    "for key in bigSteps_10000demos_slide.keys():\n",
    "    bigSteps_10000demos_rotation[key] = np.array(bigSteps_10000demos_rotation[key])\n",
    "    bigSteps_10000demos_slide[key] = np.array(bigSteps_10000demos_slide[key])\n",
    "\n",
    "print(count)\n",
    "count_1 = 0\n",
    "for item in bigSteps_10000demos_slide['terminals']:\n",
    "    if item == 1:\n",
    "        count_1 += 1\n",
    "print(\"Episodes in slide: \", count_1)\n",
    "\n",
    "print(\"| bigSteps_10000demos_rotation\")\n",
    "for key in data:\n",
    "    print(key, np.shape(bigSteps_10000demos_rotation[key]))\n",
    "\n",
    "print(\"| bigSteps_10000demos_slide\")\n",
    "for key in data:\n",
    "    print(key, np.shape(bigSteps_10000demos_slide[key]))"
   ],
   "id": "e6e74152ca408581",
   "outputs": [
    {
     "name": "stdout",
     "output_type": "stream",
     "text": [
      "10000\n",
      "Episodes in slide:  0\n",
      "| bigSteps_10000demos_rotation\n",
      "observations (10000, 18)\n",
      "next_observations (10000, 24)\n",
      "desired_goals (10000, 9)\n",
      "sampled_desired_goals (10000, 11)\n",
      "actions (10000, 2)\n",
      "rewards (0,)\n",
      "terminals (10000,)\n",
      "| bigSteps_10000demos_slide\n",
      "observations (67768, 18)\n",
      "next_observations (67768, 24)\n",
      "desired_goals (67768, 9)\n",
      "sampled_desired_goals (67768, 11)\n",
      "actions (67768, 2)\n",
      "rewards (0,)\n",
      "terminals (67768,)\n"
     ]
    }
   ],
   "execution_count": 106
  },
  {
   "metadata": {
    "ExecuteTime": {
     "end_time": "2024-07-19T10:18:04.292476Z",
     "start_time": "2024-07-19T10:18:04.218783Z"
    }
   },
   "cell_type": "code",
   "source": [
    "count = 0\n",
    "for i, item in enumerate(bigSteps_10000demos_slide['terminals']):\n",
    "    if item == 1:\n",
    "        count += 1\n",
    "    if count == 999 and item == 1:\n",
    "        print(i)\n",
    "print(len(bigSteps_10000demos_slide['terminals']))\n",
    "print(bigSteps_10000demos_slide['terminals'][3445:3448])\n",
    "slide_test = {key: [] for key in bigSteps_10000demos_slide.keys()}\n",
    "for key in data.keys():\n",
    "    slide_test[key] = bigSteps_10000demos_slide[key][3445:]\n",
    "for key in slide_test.keys():\n",
    "    slide_test[key] = np.array(slide_test[key])\n",
    "    print(np.shape(slide_test[key]))\n",
    "# save_as_pickle(slide_test, \"bigSteps_10k_demos_random_slide_testDataset\")"
   ],
   "id": "64adc85707f45b24",
   "outputs": [
    {
     "name": "stdout",
     "output_type": "stream",
     "text": [
      "67768\n",
      "[0. 0. 0.]\n",
      "(64323, 18)\n",
      "(64323, 24)\n",
      "(64323, 9)\n",
      "(64323, 11)\n",
      "(64323, 2)\n",
      "(0,)\n",
      "(64323,)\n"
     ]
    }
   ],
   "execution_count": 107
  },
  {
   "metadata": {
    "ExecuteTime": {
     "end_time": "2024-07-19T10:18:04.296406Z",
     "start_time": "2024-07-19T10:18:04.294683Z"
    }
   },
   "cell_type": "code",
   "source": "# print(action_1xn[:10])",
   "id": "9e131494cb0a7231",
   "outputs": [],
   "execution_count": 108
  },
  {
   "metadata": {},
   "cell_type": "markdown",
   "source": "# Save Files",
   "id": "20988e2a7a16ca34"
  },
  {
   "metadata": {
    "ExecuteTime": {
     "end_time": "2024-07-19T10:18:04.355455Z",
     "start_time": "2024-07-19T10:18:04.297548Z"
    }
   },
   "cell_type": "code",
   "source": [
    "# save_as_pickle(bigSteps_10000demos_rotation, \"train_bigSteps_10k_three_cylinder_rotation_noObjVel\")\n",
    "# save_as_pickle(bigSteps_10000demos_slide, \"train_bigSteps_10k_three_cylinder_slide_noObjVel\")\n",
    "\n",
    "save_as_pickle(bigSteps_10000demos_rotation, \"train_bigSteps_10k_cube_cylinder_rotation_noObjVel\")\n",
    "save_as_pickle(bigSteps_10000demos_slide, \"train_bigSteps_10k_cube_cylinder_slide_noObjVel\")\n",
    "\n",
    "print(pickle_file_path)\n",
    "\n",
    "for key in data:\n",
    "    print(key, np.shape(bigSteps_10000demos_rotation[key]))\n",
    "\n",
    "for key in data:\n",
    "    print(key, np.shape(bigSteps_10000demos_slide[key]))"
   ],
   "id": "bac68c0fd30710ca",
   "outputs": [
    {
     "name": "stdout",
     "output_type": "stream",
     "text": [
      "Data successfully saved to /Users/qiyangyan/Desktop/Diffusion/Demo_random/train_bigSteps_10k_cube_cylinder_rotation_noObjVel\n",
      "Data successfully saved to /Users/qiyangyan/Desktop/Diffusion/Demo_random/train_bigSteps_10k_cube_cylinder_slide_noObjVel\n",
      "/Users/qiyangyan/Desktop/Diffusion/Demo_random/train_10k_cube_cylinder_noObjVel.pkl\n",
      "observations (10000, 18)\n",
      "next_observations (10000, 24)\n",
      "desired_goals (10000, 9)\n",
      "sampled_desired_goals (10000, 11)\n",
      "actions (10000, 2)\n",
      "rewards (0,)\n",
      "terminals (10000,)\n",
      "observations (67768, 18)\n",
      "next_observations (67768, 24)\n",
      "desired_goals (67768, 9)\n",
      "sampled_desired_goals (67768, 11)\n",
      "actions (67768, 2)\n",
      "rewards (0,)\n",
      "terminals (67768,)\n"
     ]
    }
   ],
   "execution_count": 109
  },
  {
   "metadata": {
    "ExecuteTime": {
     "end_time": "2024-07-19T10:18:04.363479Z",
     "start_time": "2024-07-19T10:18:04.357403Z"
    }
   },
   "cell_type": "code",
   "source": [
    "# save_as_pickle(bigSteps_10000demos_rotation, \"bigSteps_10k_demos_random_rotation\")\n",
    "# save_as_pickle(bigSteps_10000demos_slide, \"bigSteps_10k_demos_random_slide\")\n",
    "# \n",
    "# for key in data:\n",
    "#     print(key, np.shape(bigSteps_10000demos_rotation[key]))\n",
    "# \n",
    "# for key in data:\n",
    "#     print(key, np.shape(bigSteps_10000demos_slide[key]))\n"
   ],
   "id": "64040493c9623a48",
   "outputs": [],
   "execution_count": 110
  },
  {
   "metadata": {
    "ExecuteTime": {
     "end_time": "2024-07-19T10:18:04.369928Z",
     "start_time": "2024-07-19T10:18:04.366216Z"
    }
   },
   "cell_type": "code",
   "source": [
    "# save_as_pickle(bigSteps_10000demos_rotation, \"bigSteps_50kdemos_rotation_withJointDR\")\n",
    "# save_as_pickle(bigSteps_10000demos_slide, \"bigSteps_50kdemos_slide_withJointDR\")\n",
    "# \n",
    "# for key in data:\n",
    "#     print(key, np.shape(bigSteps_10000demos_rotation[key]))\n",
    "# \n",
    "# for key in data:\n",
    "#     print(key, np.shape(bigSteps_10000demos_slide[key]))"
   ],
   "id": "5751265d4876c91f",
   "outputs": [],
   "execution_count": 111
  },
  {
   "metadata": {},
   "cell_type": "markdown",
   "source": "# Add sliding end indicator\n",
   "id": "94fb7156f683bed7"
  },
  {
   "metadata": {
    "ExecuteTime": {
     "end_time": "2024-07-19T10:18:04.375510Z",
     "start_time": "2024-07-19T10:18:04.370890Z"
    }
   },
   "cell_type": "code",
   "source": [
    "bigSteps_10000demos_slide_endIndicator = {key: [] for key in data.keys()}\n",
    "print(bigSteps_10000demos_slide_endIndicator)"
   ],
   "id": "aaeb9cdf4bd4667f",
   "outputs": [
    {
     "name": "stdout",
     "output_type": "stream",
     "text": [
      "{'observations': [], 'next_observations': [], 'desired_goals': [], 'sampled_desired_goals': [], 'actions': [], 'rewards': [], 'terminals': []}\n"
     ]
    }
   ],
   "execution_count": 112
  },
  {
   "metadata": {},
   "cell_type": "markdown",
   "source": "## Testing Dataset",
   "id": "9d679aea38c4169f"
  },
  {
   "metadata": {
    "ExecuteTime": {
     "end_time": "2024-07-19T10:18:04.378829Z",
     "start_time": "2024-07-19T10:18:04.376530Z"
    }
   },
   "cell_type": "code",
   "source": [
    "# count = 0\n",
    "# for i, action in enumerate(data['actions']):\n",
    "#     control_mode = discretize_action_to_control_mode_E2E(action[1])[1]\n",
    "#     if control_mode == 4 or control_mode == 5:\n",
    "#         count += 1\n",
    "#         if count > 10999+1:\n",
    "#             for key in data.keys():\n",
    "#                 bigSteps_10000demos_slide_endIndicator['actions'][-1][-1] = 1\n",
    "#     else:\n",
    "#         if count > 10999:\n",
    "#             for key in data.keys():\n",
    "#                 if len(data[key]) > i:\n",
    "#                     if key == 'desired_goals':\n",
    "#                         bigSteps_10000demos_slide_endIndicator[key].append(data[key][i][:-2])  # remove the last two items\n",
    "#                     elif key == 'actions':\n",
    "#                         bigSteps_10000demos_slide_endIndicator[key].append(np.append(data[key][i], 0))  # add 0 to the end of action as an indicator\n",
    "#                     else:\n",
    "#                         # print(type(bigSteps_10000demos_slide_endIndicator[key]), key)\n",
    "#                         bigSteps_10000demos_slide_endIndicator[key].append(data[key][i])\n",
    "# \n",
    "# for key in bigSteps_10000demos_slide_endIndicator.keys():\n",
    "#     bigSteps_10000demos_slide_endIndicator[key] = np.array(bigSteps_10000demos_slide_endIndicator[key])\n",
    "# \n",
    "# print(\"| bigSteps_10000demos_with_indicator\")\n",
    "# for key in data:\n",
    "#     print(key, np.shape(bigSteps_10000demos_slide_endIndicator[key]))\n",
    "# \n",
    "# print(count)"
   ],
   "id": "4ef6c84c7dc233f6",
   "outputs": [],
   "execution_count": 113
  },
  {
   "metadata": {
    "ExecuteTime": {
     "end_time": "2024-07-19T10:18:04.383170Z",
     "start_time": "2024-07-19T10:18:04.381096Z"
    }
   },
   "cell_type": "code",
   "source": [
    "# save_as_pickle(bigSteps_10000demos_slide_endIndicator, \"bigSteps_50kdemos_slide_endIndicator_withJointDR_testingDataset\")\n",
    "# # save_as_pickle(bigSteps_10000demos_slide_endIndicator, \"bigSteps_50kdemos_slide_endIndicator_testingDataset\")\n",
    "# \n",
    "# print(pickle_file_path)\n",
    "# \n",
    "# for key in data:\n",
    "#     print(key, np.shape(bigSteps_10000demos_rotation[key]))"
   ],
   "id": "31af919feceb16ed",
   "outputs": [],
   "execution_count": 114
  },
  {
   "metadata": {},
   "cell_type": "markdown",
   "source": "## Training Dataset",
   "id": "f5e90b6fcbaa7137"
  },
  {
   "metadata": {
    "ExecuteTime": {
     "end_time": "2024-07-19T10:18:04.472693Z",
     "start_time": "2024-07-19T10:18:04.383738Z"
    }
   },
   "cell_type": "code",
   "source": [
    "count = 0\n",
    "for item in data['terminals']:\n",
    "    if item == 1:\n",
    "        count += 1\n",
    "print(count)"
   ],
   "id": "80ca697ecd591493",
   "outputs": [
    {
     "name": "stdout",
     "output_type": "stream",
     "text": [
      "10000\n"
     ]
    }
   ],
   "execution_count": 115
  },
  {
   "metadata": {
    "ExecuteTime": {
     "end_time": "2024-07-19T10:18:04.920407Z",
     "start_time": "2024-07-19T10:18:04.473987Z"
    }
   },
   "cell_type": "code",
   "source": [
    "count = 0\n",
    "for i, action in enumerate(data['actions']):\n",
    "    if count >= 50000:\n",
    "        break\n",
    "    control_mode = discretize_action_to_control_mode_E2E(action[1])[1]\n",
    "    if control_mode == 4 or control_mode == 5:\n",
    "        count += 1\n",
    "        for key in data.keys():\n",
    "            bigSteps_10000demos_slide_endIndicator['actions'][-1][-1] = 1\n",
    "    else:\n",
    "        for key in data.keys():\n",
    "            if len(data[key]) > i:\n",
    "                if key == 'desired_goals':\n",
    "                    bigSteps_10000demos_slide_endIndicator[key].append(data[key][i][:-2])  # remove the last two items\n",
    "                elif key == 'actions':\n",
    "                    bigSteps_10000demos_slide_endIndicator[key].append(np.append(data[key][i], 0))  # add 0 to the end of action as an indicator\n",
    "                else:\n",
    "                    # print(type(bigSteps_10000demos_slide_endIndicator[key]), key)\n",
    "                    bigSteps_10000demos_slide_endIndicator[key].append(data[key][i])\n",
    "\n",
    "for key in bigSteps_10000demos_slide_endIndicator.keys():\n",
    "    bigSteps_10000demos_slide_endIndicator[key] = np.array(bigSteps_10000demos_slide_endIndicator[key])\n",
    "\n",
    "print(\"| bigSteps_10000demos_with_indicator\")\n",
    "for key in data:\n",
    "    print(key, np.shape(bigSteps_10000demos_slide_endIndicator[key]))\n",
    "\n",
    "print(count)"
   ],
   "id": "30fef9a48ddeeb60",
   "outputs": [
    {
     "name": "stdout",
     "output_type": "stream",
     "text": [
      "| bigSteps_10000demos_with_indicator\n",
      "observations (67768, 18)\n",
      "next_observations (67768, 24)\n",
      "desired_goals (67768, 9)\n",
      "sampled_desired_goals (67768, 11)\n",
      "actions (67768, 3)\n",
      "rewards (0,)\n",
      "terminals (67768,)\n",
      "10000\n"
     ]
    }
   ],
   "execution_count": 116
  },
  {
   "metadata": {
    "ExecuteTime": {
     "end_time": "2024-07-19T10:18:04.922734Z",
     "start_time": "2024-07-19T10:18:04.921243Z"
    }
   },
   "cell_type": "code",
   "source": [
    "# continue_action = bigSteps_10000demos_slide_endIndicator['actions'][:,2].reshape(-1, 1)\n",
    "# print(bigSteps_10000demos_slide_endIndicator['actions'][:10])\n",
    "# print(continue_action[:10])"
   ],
   "id": "d128e17d14172f8d",
   "outputs": [],
   "execution_count": 117
  },
  {
   "metadata": {
    "ExecuteTime": {
     "end_time": "2024-07-19T10:18:04.925946Z",
     "start_time": "2024-07-19T10:18:04.923623Z"
    }
   },
   "cell_type": "code",
   "source": [
    "# save_as_pickle(bigSteps_10000demos_slide_endIndicator, \"bigSteps_10k_demos_random_slide_endIndicator\")\n",
    "# \n",
    "# for key in data:\n",
    "#     print(key, np.shape(bigSteps_10000demos_rotation[key]))"
   ],
   "id": "30f1afd48bc3eed9",
   "outputs": [],
   "execution_count": 118
  },
  {
   "metadata": {
    "ExecuteTime": {
     "end_time": "2024-07-19T10:18:04.928797Z",
     "start_time": "2024-07-19T10:18:04.927072Z"
    }
   },
   "cell_type": "code",
   "source": [
    "# save_as_pickle(bigSteps_10000demos_slide_endIndicator, \"bigSteps_50kdemos_slide_endIndicator_withJointDR\")\n",
    "# \n",
    "# for key in data:\n",
    "#     print(key, np.shape(bigSteps_10000demos_rotation[key]))"
   ],
   "id": "a21bdee03c76590d",
   "outputs": [],
   "execution_count": 119
  },
  {
   "metadata": {},
   "cell_type": "markdown",
   "source": "# Visualization",
   "id": "7c5cabc2b711b8b0"
  },
  {
   "metadata": {
    "ExecuteTime": {
     "end_time": "2024-07-19T10:18:04.931496Z",
     "start_time": "2024-07-19T10:18:04.929422Z"
    }
   },
   "cell_type": "code",
   "source": [
    "# plt.figure(figsize=(12, 5))\n",
    "# \n",
    "# action = np.array(bigSteps_10000demos_slide_endIndicator['actions'])\n",
    "# true_action_first_elements = action[:, 0]\n",
    "# true_action_second_elements = action[:, 1]\n",
    "# true_action_third_elements = action[:, 2]\n",
    "# \n",
    "# plt.subplot(1, 3, 1)  # First subplot\n",
    "# # plt.plot(action_first_elements, label='True Action First Element', color='orange')\n",
    "# # plt.plot(action_first_elements, label='Action First Element', linewidth=1, color='blue', linestyle='dashed')\n",
    "# indices = list(range(len(true_action_first_elements)))  # Creating a list of indices\n",
    "# plt.scatter(indices, true_action_first_elements, label='True Action First Element', color='orange',\n",
    "#             s=10)  # Scatter plot\n",
    "# \n",
    "# plt.title('First Element of Actions')\n",
    "# # plt.ylim(-1, 1)\n",
    "# plt.xlabel('Iteration')\n",
    "# plt.ylabel('Value')\n",
    "# plt.legend()\n",
    "# \n",
    "# plt.subplot(1, 3, 2)  # Second subplot\n",
    "# # plt.plot(action_second_elements, label='True Action Second Element', color='orange')\n",
    "# indices = list(range(len(true_action_second_elements)))  # Creating a list of indices\n",
    "# plt.scatter(indices, true_action_second_elements, label='True Action Second Element', color='orange',\n",
    "#             s=5)  # Scatter plot\n",
    "# \n",
    "# plt.title('Second Element of Actions')\n",
    "# plt.xlabel('Iteration')\n",
    "# plt.ylabel('Value')\n",
    "# plt.legend()\n",
    "# \n",
    "# plt.subplot(1, 3, 3)  # Second subplot\n",
    "# # plt.plot(action_second_elements, label='True Action Second Element', color='orange')\n",
    "# indices = list(range(len(true_action_third_elements)))  # Creating a list of indices\n",
    "# plt.scatter(indices, true_action_third_elements, label='True Action Third Element', color='orange',\n",
    "#             s=5)  # Scatter plot\n",
    "# \n",
    "# plt.title('Third Element of Actions')\n",
    "# plt.xlabel('Iteration')\n",
    "# plt.ylabel('Value')\n",
    "# plt.legend()"
   ],
   "id": "ae3ad64fa32f0496",
   "outputs": [],
   "execution_count": 120
  },
  {
   "metadata": {},
   "cell_type": "markdown",
   "source": "# Replace desired goal with slide achieved goal",
   "id": "684e3a2653dfe7bc"
  },
  {
   "metadata": {
    "ExecuteTime": {
     "end_time": "2024-07-19T10:18:04.934715Z",
     "start_time": "2024-07-19T10:18:04.932185Z"
    }
   },
   "cell_type": "code",
   "source": [
    "bigSteps_10000demos_slideAG_as_DG = bigSteps_10000demos_slide.copy()\n",
    "bigSteps_10000demos_middle_goal = []"
   ],
   "id": "11fd77f75a89c596",
   "outputs": [],
   "execution_count": 121
  },
  {
   "metadata": {
    "ExecuteTime": {
     "end_time": "2024-07-19T10:18:05.045133Z",
     "start_time": "2024-07-19T10:18:04.935634Z"
    }
   },
   "cell_type": "code",
   "source": [
    "count = 0\n",
    "for i, action in enumerate(data['actions']):\n",
    "    control_mode = discretize_action_to_control_mode_E2E(action[1])[1]\n",
    "    if control_mode == 4 or control_mode == 5:\n",
    "        count += 1\n",
    "        bigSteps_10000demos_middle_goal.append(data['observations'][i][8:15])\n",
    "\n",
    "bigSteps_10000demos_middle_goal = np.array(bigSteps_10000demos_middle_goal)\n",
    "print(np.shape(bigSteps_10000demos_middle_goal))\n",
    "print(\"| bigSteps_10000demos_middle_goal\")\n",
    "print(bigSteps_10000demos_middle_goal[0])"
   ],
   "id": "75a876ac819b8c41",
   "outputs": [
    {
     "name": "stdout",
     "output_type": "stream",
     "text": [
      "(10000, 7)\n",
      "| bigSteps_10000demos_middle_goal\n",
      "[ 1.2116799e-02 -3.0413958e-01  4.9408904e-05  9.9869466e-01\n",
      "  1.7801307e-03  7.6364013e-05  5.1047217e-02]\n"
     ]
    }
   ],
   "execution_count": 122
  },
  {
   "metadata": {
    "ExecuteTime": {
     "end_time": "2024-07-19T10:18:05.902418Z",
     "start_time": "2024-07-19T10:18:05.046323Z"
    }
   },
   "cell_type": "code",
   "source": [
    "desired_goal_list_for_slide_demo = []\n",
    "episode = 0\n",
    "for i, action in enumerate(data['actions']):\n",
    "    control_mode = discretize_action_to_control_mode_E2E(action[1])[1]\n",
    "    if control_mode == 4 or control_mode == 5:\n",
    "        episode += 1\n",
    "    else:\n",
    "        middle_goal_pos = bigSteps_10000demos_middle_goal[episode][:3]\n",
    "        goal_radi = compute_goal_radi(middle_goal_pos, middle_goal_pos)  # TODO: This is for simulation\n",
    "        ones = np.ones(2)\n",
    "        desired_goal_list_for_slide_demo.append(np.concatenate([bigSteps_10000demos_middle_goal[episode], goal_radi, ones]))\n",
    "        \n",
    "print(episode)\n",
    "print(len(desired_goal_list_for_slide_demo))\n",
    "assert len(desired_goal_list_for_slide_demo) == len(bigSteps_10000demos_slide['actions'])\n",
    "\n",
    "bigSteps_10000demos_slideAG_as_DG[\"desired_goals\"] = np.array(desired_goal_list_for_slide_demo)\n",
    "for key in data:\n",
    "    print(key, np.shape(bigSteps_10000demos_slideAG_as_DG[key]))\n",
    "print(bigSteps_10000demos_slideAG_as_DG[\"desired_goals\"][-1])"
   ],
   "id": "bb038d9c82ebae51",
   "outputs": [
    {
     "name": "stdout",
     "output_type": "stream",
     "text": [
      "10000\n",
      "67768\n",
      "observations (67768, 18)\n",
      "next_observations (67768, 24)\n",
      "desired_goals (67768, 11)\n",
      "sampled_desired_goals (67768, 11)\n",
      "actions (67768, 2)\n",
      "rewards (0,)\n",
      "terminals (67768,)\n",
      "[ 3.40854265e-02 -2.93865919e-01  2.00000009e-03  9.87394512e-01\n",
      "  4.57201786e-05  1.16020556e-05  1.58278331e-01  1.09405069e-01\n",
      "  1.30704474e-01  1.00000000e+00  1.00000000e+00]\n"
     ]
    }
   ],
   "execution_count": 123
  },
  {
   "metadata": {
    "ExecuteTime": {
     "end_time": "2024-07-19T10:18:11.658670Z",
     "start_time": "2024-07-19T10:18:05.903120Z"
    }
   },
   "cell_type": "code",
   "source": [
    "for i, obs in enumerate(bigSteps_10000demos_slideAG_as_DG['observations']):\n",
    "    achieved_goal = obs[8:15]  # pose 7 elements\n",
    "    desired_goal = bigSteps_10000demos_slideAG_as_DG['desired_goals'][i][:7]\n",
    "    desired_goal_radi = bigSteps_10000demos_slideAG_as_DG['desired_goals'][i][7:9]\n",
    "    assert len(achieved_goal) == len(desired_goal)\n",
    "    _, angle_diff = compute_orientation_diff(np.array(desired_goal), np.array(achieved_goal))\n",
    "    achieved_goal_radi = compute_goal_radi(achieved_goal[:3], achieved_goal[:3])\n",
    "    radi_diff = desired_goal_radi - achieved_goal_radi\n",
    "    \n",
    "    bigSteps_10000demos_slideAG_as_DG['observations'][i][-3] = radi_diff[0]\n",
    "    bigSteps_10000demos_slideAG_as_DG['observations'][i][-2] = radi_diff[1]\n",
    "    bigSteps_10000demos_slideAG_as_DG['observations'][i][-1] = angle_diff"
   ],
   "id": "4150d35a143f6bd9",
   "outputs": [],
   "execution_count": 124
  },
  {
   "metadata": {},
   "cell_type": "markdown",
   "source": "# Correct the mapping error in action for rotations",
   "id": "b6425f7ffb5a1010"
  },
  {
   "metadata": {
    "ExecuteTime": {
     "end_time": "2024-07-19T10:18:11.661639Z",
     "start_time": "2024-07-19T10:18:11.659596Z"
    }
   },
   "cell_type": "code",
   "source": [
    "# for i, terminal in enumerate(data['terminals']):\n",
    "#     if terminal == 1:\n",
    "#         data['actions'][i][1] = data['actions'][i][1] * 2 - 1"
   ],
   "id": "6aa6dca5ce4a6d08",
   "outputs": [],
   "execution_count": 125
  },
  {
   "metadata": {},
   "cell_type": "markdown",
   "source": "# Uncomment the files you want to save",
   "id": "2a696fbe346ab3f0"
  },
  {
   "metadata": {
    "ExecuteTime": {
     "end_time": "2024-07-19T10:18:11.663836Z",
     "start_time": "2024-07-19T10:18:11.662313Z"
    }
   },
   "cell_type": "code",
   "source": [
    "# save_as_pickle(bigSteps_10000demos_slide_endIndicator, \"bigSteps_10000demos_slide_endIndicator\")\n",
    "# \n",
    "# for key in data:\n",
    "#     print(key, np.shape(bigSteps_10000demos_rotation[key]))"
   ],
   "id": "16f3b3ae83509de0",
   "outputs": [],
   "execution_count": 126
  },
  {
   "metadata": {
    "ExecuteTime": {
     "end_time": "2024-07-19T10:18:11.666169Z",
     "start_time": "2024-07-19T10:18:11.664623Z"
    }
   },
   "cell_type": "code",
   "source": [
    "# save_as_pickle(bigSteps_10000demos_rotation, \"bigSteps_10000demos_rotation\")\n",
    "# save_as_pickle(bigSteps_10000demos_slide, \"bigSteps_10000demos_slide\")\n",
    "# \n",
    "# for key in data:\n",
    "#     print(key, np.shape(bigSteps_10000demos_rotation[key]))\n",
    "# \n",
    "# for key in data:\n",
    "#     print(key, np.shape(bigSteps_10000demos_slide[key]))\n"
   ],
   "id": "298ddfdec4c8da3d",
   "outputs": [],
   "execution_count": 127
  },
  {
   "metadata": {
    "ExecuteTime": {
     "end_time": "2024-07-19T10:18:11.668431Z",
     "start_time": "2024-07-19T10:18:11.666725Z"
    }
   },
   "cell_type": "code",
   "source": [
    "# save_as_pickle(bigSteps_10000demos_rotation, \"bigSteps_10000demos_rotation_testingDataset\")\n",
    "# save_as_pickle(bigSteps_10000demos_slide, \"bigSteps_10000demos_slide_testingDataset\")\n",
    "# \n",
    "# for key in data:\n",
    "#     print(key, np.shape(bigSteps_10000demos_rotation[key]))\n",
    "# \n",
    "# for key in data:\n",
    "#     print(key, np.shape(bigSteps_10000demos_slide[key]))\n"
   ],
   "id": "72232df314f464e1",
   "outputs": [],
   "execution_count": 128
  },
  {
   "metadata": {
    "ExecuteTime": {
     "end_time": "2024-07-19T10:18:11.670362Z",
     "start_time": "2024-07-19T10:18:11.668957Z"
    }
   },
   "cell_type": "code",
   "source": [
    "# save_as_pickle(bigSteps_10000demos_slide_endIndicator, \"bigSteps_10000demos_slide_endIndicator_testingDataset\")\n",
    "# \n",
    "# for key in data:\n",
    "#     print(key, np.shape(bigSteps_10000demos_rotation[key]))"
   ],
   "id": "7af1f0a60160b4ff",
   "outputs": [],
   "execution_count": 129
  },
  {
   "metadata": {
    "ExecuteTime": {
     "end_time": "2024-07-19T10:18:11.672213Z",
     "start_time": "2024-07-19T10:18:11.670907Z"
    }
   },
   "cell_type": "code",
   "source": [
    "# save_as_pickle(bigSteps_10000demos_slide, \"bigSteps_10000demos_slide_testingDataset_11elements\")\n",
    "# \n",
    "# for key in data:\n",
    "#     print(key, np.shape(bigSteps_10000demos_slide[key]))"
   ],
   "id": "b8ae89277cc90525",
   "outputs": [],
   "execution_count": 130
  },
  {
   "metadata": {
    "ExecuteTime": {
     "end_time": "2024-07-19T10:18:11.673925Z",
     "start_time": "2024-07-19T10:18:11.672680Z"
    }
   },
   "cell_type": "code",
   "source": [
    "# save_as_pickle(bigSteps_10000demos_slideAG_as_DG, \"bigSteps_10000demos_slideAG_as_DG\")\n",
    "# \n",
    "# for key in data:\n",
    "#     print(key, np.shape(bigSteps_10000demos_slideAG_as_DG[key]))"
   ],
   "id": "3dc71d7d53404ca9",
   "outputs": [],
   "execution_count": 131
  },
  {
   "metadata": {
    "ExecuteTime": {
     "end_time": "2024-07-19T10:18:11.679160Z",
     "start_time": "2024-07-19T10:18:11.677569Z"
    }
   },
   "cell_type": "code",
   "source": [
    "# save_as_pickle(data, \"/Users/qiyangyan/Desktop/Diffusion/Demonstration/bigSteps_10000demos_testingDataset\")\n",
    "# \n",
    "# for key in data:\n",
    "#     print(key, np.shape(bigSteps_10000demos_slideAG_as_DG[key]))"
   ],
   "id": "7dcbbfe77f5180f8",
   "outputs": [],
   "execution_count": 132
  }
 ],
 "metadata": {
  "kernelspec": {
   "display_name": "Python 3",
   "language": "python",
   "name": "python3"
  },
  "language_info": {
   "codemirror_mode": {
    "name": "ipython",
    "version": 2
   },
   "file_extension": ".py",
   "mimetype": "text/x-python",
   "name": "python",
   "nbconvert_exporter": "python",
   "pygments_lexer": "ipython2",
   "version": "2.7.6"
  }
 },
 "nbformat": 4,
 "nbformat_minor": 5
}
