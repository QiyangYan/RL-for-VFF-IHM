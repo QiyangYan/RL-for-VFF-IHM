{
 "cells": [
  {
   "metadata": {
    "ExecuteTime": {
     "end_time": "2024-06-05T05:11:37.534928Z",
     "start_time": "2024-06-05T05:11:37.530249Z"
    }
   },
   "cell_type": "code",
   "source": [
    "import pickle\n",
    "import numpy as np\n",
    "import torch\n",
    "import matplotlib.pyplot as plt\n",
    "import os\n"
   ],
   "id": "3723a7aac5457982",
   "execution_count": 67,
   "outputs": []
  },
  {
   "metadata": {
    "ExecuteTime": {
     "end_time": "2024-06-05T05:11:37.539663Z",
     "start_time": "2024-06-05T05:11:37.536864Z"
    }
   },
   "cell_type": "code",
   "source": [
    "def load_pickle(file_path):\n",
    "    try:\n",
    "        with open(file_path, 'rb') as file:\n",
    "            data = pickle.load(file)\n",
    "            return data\n",
    "    except Exception as e:\n",
    "        print(f\"An error occurred: {e}\")\n",
    "        return None"
   ],
   "id": "e3e5b0228b1822f3",
   "execution_count": 68,
   "outputs": []
  },
  {
   "metadata": {
    "ExecuteTime": {
     "end_time": "2024-06-05T05:11:37.544556Z",
     "start_time": "2024-06-05T05:11:37.540886Z"
    }
   },
   "cell_type": "code",
   "source": [
    "def discretize_action_to_control_mode_E2E(action):\n",
    "    \"\"\"\n",
    "    -1 ~ 1 maps to 0 ~ 1\n",
    "    \"\"\"\n",
    "    # Your action discretization logic here\n",
    "    # print(\"Action: \", action)\n",
    "    action_norm = (action + 1) / 2\n",
    "    # print(action_norm, action)\n",
    "    if 1 / 6 > action_norm >= 0:\n",
    "        # print(\"| Slide up on right finger\")\n",
    "        control_mode = 0\n",
    "        friction_state = 1  # left finger high friction\n",
    "        pos_idx = 0\n",
    "    elif 2 / 6 > action_norm >= 1 / 6:\n",
    "        # print(\"| Slide down on right finger\")\n",
    "        control_mode = 1\n",
    "        friction_state = 1\n",
    "        pos_idx = 1\n",
    "    elif 3 / 6 > action_norm >= 2 / 6:\n",
    "        # print(\"| Slide up on left finger\")\n",
    "        control_mode = 2\n",
    "        friction_state = -1\n",
    "        pos_idx = 1\n",
    "    elif 4 / 6 > action_norm >= 3 / 6:\n",
    "        # print(\"| Slide down on left finger\")\n",
    "        control_mode = 3\n",
    "        friction_state = -1\n",
    "        pos_idx = 0\n",
    "    elif 5 / 6 > action_norm >= 4 / 6:\n",
    "        # print(\"| Rotate clockwise\")\n",
    "        control_mode = 4\n",
    "        friction_state = 0\n",
    "        pos_idx = 0\n",
    "        # print(\"Rotate\")\n",
    "    else:\n",
    "        assert 1 >= action_norm >= 5 / 6\n",
    "        # print(\"| Rotate anticlockwise\")\n",
    "        control_mode = 5\n",
    "        friction_state = 0\n",
    "        pos_idx = 1\n",
    "        # print(pos_idx)\n",
    "        # print(\"Rotate\")\n",
    "    return friction_state, control_mode, pos_idx"
   ],
   "id": "570861604b4ef82a",
   "execution_count": 69,
   "outputs": []
  },
  {
   "metadata": {
    "ExecuteTime": {
     "end_time": "2024-06-05T05:11:37.554574Z",
     "start_time": "2024-06-05T05:11:37.551749Z"
    }
   },
   "cell_type": "code",
   "source": [
    "def save_as_pickle(data, filename, directory='/Users/qiyangyan/Desktop/TrainingFiles/Diffusion1/demonstration'):\n",
    "    os.makedirs(directory, exist_ok=True)\n",
    "    full_path = os.path.join(directory, filename)\n",
    "\n",
    "    try:\n",
    "        with open(full_path, 'wb') as file:\n",
    "            pickle.dump(data, file)\n",
    "        # print(full_path)\n",
    "        print(f\"Data successfully saved to {full_path}\")\n",
    "    except Exception as e:\n",
    "        print(f\"An error occurred while saving data: {e}\")"
   ],
   "id": "760a3538c10e6819",
   "execution_count": 70,
   "outputs": []
  },
  {
   "metadata": {
    "ExecuteTime": {
     "end_time": "2024-06-05T05:11:37.566571Z",
     "start_time": "2024-06-05T05:11:37.562060Z"
    }
   },
   "cell_type": "code",
   "source": [
    "pickle_file_path = '/Users/qiyangyan/Desktop/Diffusion/Demonstration/bigSteps_10k_demos_random_slide_testDataset'\n",
    "data = load_pickle(pickle_file_path)"
   ],
   "id": "initial_id",
   "execution_count": 71,
   "outputs": []
  },
  {
   "metadata": {
    "ExecuteTime": {
     "end_time": "2024-06-05T05:11:37.571038Z",
     "start_time": "2024-06-05T05:11:37.568171Z"
    }
   },
   "cell_type": "code",
   "source": [
    "print(data.keys())\n",
    "print(np.shape(data['actions']))\n",
    "print(np.shape(data['desired_goals']))"
   ],
   "id": "a31b67a863569c28",
   "execution_count": 72,
   "outputs": []
  },
  {
   "metadata": {},
   "cell_type": "markdown",
   "source": "Split demonstration into sliding and rotation",
   "id": "9715d1c8cff4df1e"
  },
  {
   "metadata": {
    "ExecuteTime": {
     "end_time": "2024-06-05T05:11:37.574410Z",
     "start_time": "2024-06-05T05:11:37.572067Z"
    }
   },
   "cell_type": "code",
   "source": [
    "bigSteps_10000demos_middle_goal = []\n",
    "bigSteps_10000demos_end_goal = []"
   ],
   "id": "954b6de02cd5d712",
   "execution_count": 73,
   "outputs": []
  },
  {
   "metadata": {},
   "cell_type": "markdown",
   "source": "# Add sliding end indicator",
   "id": "94fb7156f683bed7"
  },
  {
   "metadata": {
    "ExecuteTime": {
     "end_time": "2024-06-05T05:11:37.581597Z",
     "start_time": "2024-06-05T05:11:37.575962Z"
    }
   },
   "cell_type": "code",
   "source": [
    "for i, terminate in enumerate(data['terminals']):\n",
    "    if terminate == 1:\n",
    "        bigSteps_10000demos_end_goal.append(data['desired_goals'][i][:7])\n",
    "\n",
    "print(np.shape(bigSteps_10000demos_end_goal))"
   ],
   "id": "a5c3e96222686bbd",
   "execution_count": 74,
   "outputs": []
  },
  {
   "metadata": {
    "ExecuteTime": {
     "end_time": "2024-06-05T05:11:37.584144Z",
     "start_time": "2024-06-05T05:11:37.582210Z"
    }
   },
   "cell_type": "code",
   "source": [
    "# count = 0\n",
    "# for i, action in enumerate(data['actions']):\n",
    "#     control_mode = discretize_action_to_control_mode_E2E(action[1])[1]\n",
    "#     if control_mode == 4 or control_mode == 5:\n",
    "#         count += 1\n",
    "#         # bigSteps_10000demos_middle_goal.append(data['observations'][i][8:15])\n",
    "#         bigSteps_10000demos_end_goal.append(data['desired_goals'][i][:7])\n",
    "# \n",
    "# # bigSteps_10000demos_middle_goal = np.array(bigSteps_10000demos_middle_goal)\n",
    "# bigSteps_10000demos_end_goal = np.array(bigSteps_10000demos_end_goal)\n",
    "# \n",
    "# print(\"| bigSteps_10000demos_middle_goal\")\n",
    "# # print(np.shape(bigSteps_10000demos_middle_goal))\n",
    "# print(np.shape(bigSteps_10000demos_end_goal))\n",
    "# \n",
    "# # print(count)\n",
    "# # print(bigSteps_10000demos_middle_goal[0])"
   ],
   "id": "30fef9a48ddeeb60",
   "execution_count": 75,
   "outputs": []
  },
  {
   "metadata": {},
   "cell_type": "markdown",
   "source": "Uncomment the files you want to save",
   "id": "2a696fbe346ab3f0"
  },
  {
   "metadata": {},
   "cell_type": "markdown",
   "source": "",
   "id": "6978a43e2ee1ae9e"
  },
  {
   "metadata": {
    "ExecuteTime": {
     "end_time": "2024-06-05T05:11:37.587071Z",
     "start_time": "2024-06-05T05:11:37.585098Z"
    }
   },
   "cell_type": "code",
   "source": "# save_as_pickle(bigSteps_10000demos_middle_goal, \"bigSteps_10000demos_middle_goal\")",
   "id": "73623de472d5fe55",
   "execution_count": 76,
   "outputs": []
  },
  {
   "metadata": {
    "ExecuteTime": {
     "end_time": "2024-06-05T05:11:37.597462Z",
     "start_time": "2024-06-05T05:11:37.588189Z"
    }
   },
   "cell_type": "code",
   "source": [
    "save_as_pickle(bigSteps_10000demos_end_goal, \"bigSteps_10k_demos_random_test_goals\")\n",
    "\n",
    "print(np.shape(bigSteps_10000demos_end_goal))"
   ],
   "id": "1ecbaaef5409f095",
   "execution_count": 77,
   "outputs": []
  }
 ],
 "metadata": {
  "kernelspec": {
   "display_name": "Python 3",
   "language": "python",
   "name": "python3"
  },
  "language_info": {
   "codemirror_mode": {
    "name": "ipython",
    "version": 2
   },
   "file_extension": ".py",
   "mimetype": "text/x-python",
   "name": "python",
   "nbconvert_exporter": "python",
   "pygments_lexer": "ipython2",
   "version": "2.7.6"
  }
 },
 "nbformat": 4,
 "nbformat_minor": 5
}
