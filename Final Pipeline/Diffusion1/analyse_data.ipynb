{
 "cells": [
  {
   "metadata": {
    "ExecuteTime": {
     "end_time": "2024-06-12T13:23:39.322122Z",
     "start_time": "2024-06-12T13:23:37.043601Z"
    }
   },
   "cell_type": "code",
   "source": [
    "import pickle\n",
    "import numpy as np\n",
    "import torch\n",
    "import matplotlib.pyplot as plt\n",
    "import os"
   ],
   "id": "777f614b89d2b4ea",
   "execution_count": 2,
   "outputs": []
  },
  {
   "metadata": {
    "ExecuteTime": {
     "end_time": "2024-06-12T13:23:39.365304Z",
     "start_time": "2024-06-12T13:23:39.354055Z"
    }
   },
   "cell_type": "code",
   "source": [
    "def load_pickle(file_path):\n",
    "    try:\n",
    "        with open(file_path, 'rb') as file:\n",
    "            data = pickle.load(file)\n",
    "            return data\n",
    "    except Exception as e:\n",
    "        print(f\"An error occurred: {e}\")\n",
    "        return None"
   ],
   "id": "d6fd2a24e746e703",
   "execution_count": 3,
   "outputs": []
  },
  {
   "metadata": {
    "ExecuteTime": {
     "end_time": "2024-06-12T13:23:39.408559Z",
     "start_time": "2024-06-12T13:23:39.397029Z"
    }
   },
   "cell_type": "code",
   "source": [
    "def discretize_action_to_control_mode_E2E(action):\n",
    "    # Your action discretization logic here\n",
    "    action_norm = (action + 1) / 2\n",
    "    if 1 / 6 > action_norm >= 0:\n",
    "        control_mode = 0\n",
    "        friction_state = 1  # left finger high friction\n",
    "    elif 2 / 6 > action_norm >= 1 / 6:\n",
    "        control_mode = 1\n",
    "        friction_state = 1\n",
    "    elif 3 / 6 > action_norm >= 2 / 6:\n",
    "        control_mode = 2\n",
    "        friction_state = -1\n",
    "    elif 4 / 6 > action_norm >= 3 / 6:\n",
    "        control_mode = 3\n",
    "        friction_state = -1\n",
    "    elif 5 / 6 > action_norm >= 4 / 6:\n",
    "        control_mode = 4\n",
    "        friction_state = 0\n",
    "    else:\n",
    "        assert 1 >= action_norm >= 5 / 6\n",
    "        control_mode = 5\n",
    "        friction_state = 0\n",
    "    return friction_state, control_mode"
   ],
   "id": "dcca7decbaff60ec",
   "execution_count": 4,
   "outputs": []
  },
  {
   "metadata": {
    "ExecuteTime": {
     "end_time": "2024-06-12T13:24:46.272374Z",
     "start_time": "2024-06-12T13:24:25.409117Z"
    }
   },
   "cell_type": "code",
   "source": [
    "# pickle_file_path = '/Users/qiyangyan/Desktop/Training Files/Diffusion1/hopper-medium-v2.pkl'\n",
    "# pickle_file_path = '/Users/qiyangyan/Desktop/Diffusion/Demonstration/VFF-1686demos'\n",
    "# pickle_file_path = '/Users/qiyangyan/Desktop/Diffusion/Demonstration/VFF-1817demos'\n",
    "# pickle_file_path = '/Users/qiyangyan/Desktop/Diffusion/Demonstration/VFF-1135demos'\n",
    "# pickle_file_path = '/Users/qiyangyan/Desktop/Diffusion/Demonstration/VFF-2mmPolicy_5mmThreshold'\n",
    "# pickle_file_path = '/Users/qiyangyan/Desktop/Diffusion/Demonstration/VFF-2mmPolicy_2mmThreshold'\n",
    "# pickle_file_path = '/Users/qiyangyan/Desktop/Training Files/Real4/Real4/demonstration/VFF-random'\n",
    "# pickle_file_path = '/Users/qiyangyan/Desktop/Training Files/VFF-random_9884demos'\n",
    "# pickle_file_path = '/Users/qiyangyan/Desktop/Training Files/Real4/Real4/demonstration/VFF-random_withoutRotation_9983demos'\n",
    "# pickle_file_path = '/Users/qiyangyan/Desktop/Training Files/Real4/Real4/demonstration/VFF-test'\n",
    "# pickle_file_path = '/Users/qiyangyan/Desktop/Training Files/Real4/Real4/demonstration/VFF-bigSteps-1879demos-2mmPolicy-5mmThreshold'\n",
    "# pickle_file_path = '/Users/qiyangyan/Desktop/Diffusion/Demonstration/VFF-bigSteps-5000demos'\n",
    "# pickle_file_path = '/Users/qiyangyan/Desktop/Diffusion/Demonstration/VFF-bigSteps-10000demos'\n",
    "# pickle_file_path = '/Users/qiyangyan/Desktop/Diffusion/Demonstration/VFF-bigSteps'\n",
    "# pickle_file_path = '/Users/qiyangyan/Desktop/Training Files/Diffusion1/get_stacked_dataset/VFF-bigSteps_stacked_4_2_2.pkl'\n",
    "# pickle_file_path = '/Users/qiyangyan/Desktop/Training Files/Real4/Real4/demonstration/VFF-test'\n",
    "# pickle_file_path = '/Users/qiyangyan/Desktop/Diffusion/Demonstration/VFF-bigSteps-2000demos-randomise'\n",
    "# pickle_file_path = '/Users/qiyangyan/Desktop/TrainingFiles/Real4/Real4/demonstration/VFF-bigSteps-2000demos-randomise_1_repeat'\n",
    "# pickle_file_path = '/Users/qiyangyan/Desktop/Diffusion/Demonstration/bigSteps_10000demos_slide'\n",
    "# pickle_file_path = '/Users/qiyangyan/Desktop/Diffusion/Demonstration/VFF-bigSteps-10000demos'\n",
    "# pickle_file_path =  '/Users/qiyangyan/Desktop/Diffusion/Demonstration/VFF-bigSteps-10000demos'\n",
    "pickle_file_path = '/Users/qiyangyan/Desktop/Diffusion/Demonstration/bigSteps_10000demos_slide'\n",
    "# pickle_file_path = '/Users/qiyangyan/Desktop/Diffusion/Demonstration/bigSteps_10000demos_slide_endIndicator'\n",
    "# pickle_file_path = '/Users/qiyangyan/Desktop/TrainingFiles/Real4/Real4/demonstration/VFF_bigSteps_20kDataset_seed_1'\n",
    "# pickle_file_path = '/Users/qiyangyan/Desktop/TrainingFiles/Real4/Real4/demonstration/VFF-test'\n",
    "# pickle_file_path = '/Users/qiyangyan/Desktop/Diffusion/Demonstration/bigSteps_10k_demos_random_slide'\n",
    "data = load_pickle(pickle_file_path)"
   ],
   "id": "70af647bb2b91f3b",
   "execution_count": 7,
   "outputs": []
  },
  {
   "metadata": {
    "ExecuteTime": {
     "end_time": "2024-06-12T13:24:46.287423Z",
     "start_time": "2024-06-12T13:24:46.277600Z"
    }
   },
   "cell_type": "code",
   "source": [
    "test = data['terminals'].copy()\n",
    "print(np.expand_dims(test, axis=1))\n",
    "print(np.shape(data['observations']))"
   ],
   "id": "368594331aa6e31",
   "execution_count": 8,
   "outputs": []
  },
  {
   "metadata": {
    "ExecuteTime": {
     "end_time": "2024-06-07T09:46:09.486907Z",
     "start_time": "2024-06-07T09:46:09.434813Z"
    }
   },
   "cell_type": "code",
   "source": [
    "for i, item in enumerate(data['actions']):\n",
    "    action_mode = discretize_action_to_control_mode_E2E(item[1])[1]\n",
    "    data['actions'][i][1] = action_mode\n",
    "\n",
    "print(data['actions'][:20])"
   ],
   "id": "32b7c09b91b88945",
   "execution_count": 15,
   "outputs": []
  },
  {
   "metadata": {
    "ExecuteTime": {
     "end_time": "2024-06-05T04:39:28.785859Z",
     "start_time": "2024-06-05T04:39:28.782527Z"
    }
   },
   "cell_type": "code",
   "source": [
    "# print(data['desired_goals'][:10])\n",
    "# print(data['sampled_desired_goals'][:10])\n",
    "print(data['actions'][0])\n",
    "print((data['actions'][0][0] + 1) / 2 * 1.8807)\n",
    "print(\"Start: \", data['observations'][0][0], data['observations'][0][2], data['observations'][1][2])\n",
    "print(abs(data['observations'][0][0] - data['observations'][1][0]))\n",
    "print(abs(data['observations'][0][2] - data['observations'][1][2]))"
   ],
   "id": "4ba08d398d06dc81",
   "execution_count": 713,
   "outputs": []
  },
  {
   "metadata": {
    "ExecuteTime": {
     "end_time": "2024-06-05T04:39:28.824924Z",
     "start_time": "2024-06-05T04:39:28.822938Z"
    }
   },
   "cell_type": "code",
   "source": [
    "# with open(f'/Users/qiyangyan/Desktop/Training Files/Diffusion1/big_steps_stack_dataset_4_2_2.pkl', 'rb') as f:\n",
    "#   dataset_test = pickle.load(f)\n",
    "# \n",
    "# print(dataset_test.__getitem__(0)['action'])\n",
    "# print(dataset_test.__getitem__(0)['obs'])\n",
    "# \n",
    "# print(data['actions'].shape)\n",
    "# print(dataset_test.__len__())\n",
    "# # print(dataset_test.indices)\n",
    "# \n",
    "# for idx in range(dataset_test.__len__()):\n",
    "    "
   ],
   "id": "11826d786d7bb217",
   "execution_count": 714,
   "outputs": []
  },
  {
   "metadata": {
    "ExecuteTime": {
     "end_time": "2024-06-05T04:39:28.844963Z",
     "start_time": "2024-06-05T04:39:28.841659Z"
    }
   },
   "cell_type": "code",
   "source": [
    "if data is not None:\n",
    "    print(\"Type of the loaded data:\", type(data))\n",
    "    if isinstance(data, dict):\n",
    "        print(\"Keys in the dictionary:\", data.keys())\n",
    "    elif isinstance(data, list):\n",
    "        print(\"Number of elements in the list:\", len(data))\n",
    "    elif isinstance(data, (set, tuple)):\n",
    "        print(\"Number of elements:\", len(data))\n",
    "    else:\n",
    "        print(\"Data:\", data)"
   ],
   "id": "3edda9124c51ba14",
   "execution_count": 715,
   "outputs": []
  },
  {
   "metadata": {
    "ExecuteTime": {
     "end_time": "2024-06-05T04:39:28.861730Z",
     "start_time": "2024-06-05T04:39:28.858354Z"
    }
   },
   "cell_type": "code",
   "source": [
    "print(np.mean(data['desired_goals'], axis=0))\n",
    "print(np.shape(data['desired_goals']))"
   ],
   "id": "103892f75d83b659",
   "execution_count": 716,
   "outputs": []
  },
  {
   "metadata": {
    "ExecuteTime": {
     "end_time": "2024-06-05T04:39:28.869705Z",
     "start_time": "2024-06-05T04:39:28.867021Z"
    }
   },
   "cell_type": "code",
   "source": [
    "def normalize(data, mean, std):\n",
    "    # Ensure standard deviation is not zero to avoid division by zero error\n",
    "    std = np.where(std == 0, 1, std)\n",
    "    return (data - mean) / std\n",
    "\n",
    "def normalize_max_min(data, min, max):\n",
    "    # Ensure standard deviation is not zero to avoid division by zero error\n",
    "    mask = (max == min)\n",
    "    # data_norm = np.where(mask, 0.5, (data - min) / (max - min))\n",
    "    data_norm = np.divide(data - min, max - min, where=~mask, out=np.full(data.shape, np.nan))\n",
    "    data_norm = np.where(mask, 0.5, data_norm)\n",
    "    return data_norm * 2 - 1"
   ],
   "id": "a91e0ddf24b996ce",
   "execution_count": 717,
   "outputs": []
  },
  {
   "metadata": {
    "ExecuteTime": {
     "end_time": "2024-06-05T04:39:28.910349Z",
     "start_time": "2024-06-05T04:39:28.896100Z"
    }
   },
   "cell_type": "code",
   "source": [
    "action_max = np.max(data['desired_goals'], axis=0)\n",
    "action_min = np.min(data['desired_goals'], axis=0)\n",
    "mask = (action_max == action_min)\n",
    "print(mask)\n",
    "\n",
    "action_norm = normalize_max_min(data['desired_goals'], min=action_min, max=action_max)\n",
    "# print(action_max)\n",
    "# print(action_min)\n",
    "# print(np.shape(action_norm))\n",
    "# print(np.max(action_norm, axis=0))\n",
    "# print(np.min(action_norm, axis=0))\n",
    "print(action_norm[0])"
   ],
   "id": "43e76ad1e3c97daf",
   "execution_count": 718,
   "outputs": []
  },
  {
   "metadata": {
    "ExecuteTime": {
     "end_time": "2024-06-05T04:39:28.922867Z",
     "start_time": "2024-06-05T04:39:28.913426Z"
    }
   },
   "cell_type": "code",
   "source": [
    "action_mean = np.mean(data['actions'], axis=0)\n",
    "action_std = np.std(data['actions'], axis=0)\n",
    "action_norm = normalize(data['actions'], action_mean, action_std)\n",
    "print(np.mean(data['actions'][:, 1]))\n",
    "print(np.max(data['actions'], axis=0))\n",
    "print(np.min(data['actions'], axis=0))\n",
    "print(action_mean, action_std)\n",
    "print(np.shape(action_norm))\n",
    "print(np.max(action_norm, axis=0))\n",
    "print(np.min(action_norm, axis=0))\n",
    "# print(np.min(action_norm))"
   ],
   "id": "ab4cd09abc0d8fa2",
   "execution_count": 719,
   "outputs": []
  },
  {
   "metadata": {},
   "cell_type": "markdown",
   "source": "Normalize",
   "id": "94d408f968cba4bd"
  },
  {
   "metadata": {
    "ExecuteTime": {
     "end_time": "2024-06-05T04:39:28.947516Z",
     "start_time": "2024-06-05T04:39:28.928292Z"
    }
   },
   "cell_type": "code",
   "source": [
    "def get_data_stats(data_):\n",
    "    data_ = data_.reshape(-1,data_.shape[-1])\n",
    "    stats = {\n",
    "        'min': np.min(data_, axis=0),\n",
    "        'max': np.max(data_, axis=0)\n",
    "    }\n",
    "    return stats\n",
    "\n",
    "def normalize_data(data_, stats):\n",
    "    # nomalize to [0,1]\n",
    "    # epsilon = 1e-10\n",
    "    ndata = (data_ - stats['min']) / (stats['max'] - stats['min'])\n",
    "    # normalize to [-1, 1]\n",
    "    ndata = ndata * 2 - 1\n",
    "    return ndata\n",
    "\n",
    "stats = {}\n",
    "normalized_train_data = {key: [] for key in data.keys()}\n",
    "for key, sub_data in data.items():\n",
    "    if key == 'terminals' or key == 'actions' or key == 'rewards' or key == 'next_observations':\n",
    "        continue\n",
    "    stats[key] = get_data_stats(sub_data)\n",
    "    normalized_train_data[key] = normalize_data(sub_data, stats[key])\n",
    "    print(key, stats[key])\n",
    "    \n",
    "for key in normalized_train_data.keys():\n",
    "    if key == 'terminals' or key == 'actions' or key == 'rewards' or key == 'next_observations':\n",
    "        continue\n",
    "    print(np.shape(data[key]))\n",
    "    print(np.shape(normalized_train_data[key]))\n",
    "    print(key)\n",
    "    print('min', np.min(normalized_train_data[key], axis=0))\n",
    "    print('max', np.max(normalized_train_data[key], axis=0))\n",
    "    \n",
    "print(normalized_train_data['desired_goals'][-1][2])\n"
   ],
   "id": "15301c3ada6f72",
   "execution_count": 720,
   "outputs": []
  },
  {
   "metadata": {
    "ExecuteTime": {
     "end_time": "2024-06-05T04:39:28.951767Z",
     "start_time": "2024-06-05T04:39:28.948541Z"
    }
   },
   "cell_type": "code",
   "source": [
    "for key in data.keys():\n",
    "    print(np.shape(data[key]), key)\n",
    "    # print(data[key][0])\n",
    "    \n",
    "print(data['observations'][:5])"
   ],
   "id": "6e299ebf7d89b70a",
   "execution_count": 721,
   "outputs": []
  },
  {
   "metadata": {
    "ExecuteTime": {
     "end_time": "2024-06-05T04:39:28.954911Z",
     "start_time": "2024-06-05T04:39:28.952879Z"
    }
   },
   "cell_type": "code",
   "source": [
    "print(np.shape(data['desired_goals']))\n",
    "# print(np.shape(data['sampled_desired_goals']))"
   ],
   "id": "f448f3853b0c6f75",
   "execution_count": 722,
   "outputs": []
  },
  {
   "metadata": {
    "ExecuteTime": {
     "end_time": "2024-06-05T04:39:28.966170Z",
     "start_time": "2024-06-05T04:39:28.964208Z"
    }
   },
   "cell_type": "code",
   "source": "# data['desired_goals'] = data['sampled_desired_goals']",
   "id": "d1a6c122bd25ba1f",
   "execution_count": 723,
   "outputs": []
  },
  {
   "metadata": {
    "ExecuteTime": {
     "end_time": "2024-06-05T04:39:28.978434Z",
     "start_time": "2024-06-05T04:39:28.976211Z"
    }
   },
   "cell_type": "code",
   "source": [
    "print(data['desired_goals'][:3])\n",
    "# print(data['sampled_desired_goals'][:3])"
   ],
   "id": "39440ea9a9c65531",
   "execution_count": 724,
   "outputs": []
  },
  {
   "metadata": {
    "ExecuteTime": {
     "end_time": "2024-06-05T04:39:28.988859Z",
     "start_time": "2024-06-05T04:39:28.985770Z"
    }
   },
   "cell_type": "code",
   "source": [
    "for i in range(5):\n",
    "    print(data['observations'][i])\n",
    "    print(data['actions'][i])"
   ],
   "id": "ec02e5a969302d66",
   "execution_count": 725,
   "outputs": []
  },
  {
   "metadata": {
    "ExecuteTime": {
     "end_time": "2024-06-05T04:39:29.008624Z",
     "start_time": "2024-06-05T04:39:29.006690Z"
    }
   },
   "cell_type": "code",
   "source": [
    "# first_action = np.zeros((1, data['actions'].shape[1]))\n",
    "# all_actions = np.vstack((first_action, data['actions'][:-1]))\n",
    "# obs_with_action = np.hstack((data['observations'], all_actions))\n",
    "# \n",
    "# # Replace first action for every episode\n",
    "# episode_ends = [index for index, value in enumerate(data['terminals']) if value]\n",
    "# for idx in episode_ends[:-1]:\n",
    "#     obs_with_action[idx+1][-2:] =  np.zeros((1, data['actions'].shape[1]))\n",
    "# \n",
    "# data['observations'] = obs_with_action\n",
    "# print(data['observations'].shape)"
   ],
   "id": "f048d4a92fdffbc7",
   "execution_count": 726,
   "outputs": []
  },
  {
   "metadata": {
    "ExecuteTime": {
     "end_time": "2024-06-05T04:39:29.040610Z",
     "start_time": "2024-06-05T04:39:29.014413Z"
    }
   },
   "cell_type": "code",
   "source": [
    "data['desired_goals'] = np.array([sub_array[:-2] for sub_array in data['desired_goals']])\n",
    "print(np.shape(data['desired_goals']))\n",
    "print(data['desired_goals'])"
   ],
   "id": "8fbab8ea2ef27be2",
   "execution_count": 727,
   "outputs": []
  },
  {
   "metadata": {
    "ExecuteTime": {
     "end_time": "2024-06-05T04:39:29.226630Z",
     "start_time": "2024-06-05T04:39:29.041876Z"
    }
   },
   "cell_type": "code",
   "source": [
    "# print(data['actions'][:20,0])\n",
    "# print(np.shape(data['actions']))\n",
    "# print(np.shape(data['actions'][:,0].reshape(-1, 1)))\n",
    "# print(data['actions'][:,0].reshape(-1, 1)[:20,0])\n",
    "\n",
    "max = 0\n",
    "min = 1\n",
    "key = 'actions'\n",
    "idx = 0\n",
    "for i in range(len(data['terminals'])):\n",
    "    if discretize_action_to_control_mode_E2E(data[key][i, 1])[1] == 4 or discretize_action_to_control_mode_E2E(data['actions'][i, 1])[1] == 5:\n",
    "        # print(f\"{i} Control mode: {discretize_action_to_control_mode_E2E(data['actions'][i, 1])[1]}, \"\n",
    "        #       # f\"achieved: {data['observations'][i, 8:10]}, \"\n",
    "        #       # f\"desired: {data['desired_goals'][i, :2]}, \"\n",
    "        #       f\"indicator: {data['observations'][i,-3:]}, \"\n",
    "        #       f'action: {data[\"actions\"][i]}'\n",
    "        #       )\n",
    "        if data[key][i][idx] > max:\n",
    "            max = data[key][i][idx]\n",
    "        if data[key][i][idx] < min:\n",
    "            min = data[key][i][idx]\n",
    "    # if int(data['terminals'][i]):\n",
    "    #     print(f\"Desired goal: {data['desired_goals'][i][:2]}\")\n",
    "    #     print(f\"Episode End at {i}\")\n",
    "print(min, max)\n",
    "\n",
    "\n",
    "# data['actions'] = [(data/(max-min))*2-1 if  for i, action in enumerate(data['actions'])]"
   ],
   "id": "5295e0c52abe37e2",
   "execution_count": 728,
   "outputs": []
  },
  {
   "metadata": {
    "ExecuteTime": {
     "end_time": "2024-06-05T04:39:29.235023Z",
     "start_time": "2024-06-05T04:39:29.227455Z"
    }
   },
   "cell_type": "code",
   "source": [
    "''' Measure number of episodes '''\n",
    "num = 0\n",
    "for i, item in enumerate(data['terminals']):\n",
    "    if item:\n",
    "        num += 1\n",
    "print(num)"
   ],
   "id": "95fdb13f6770e90f",
   "execution_count": 729,
   "outputs": []
  },
  {
   "metadata": {
    "ExecuteTime": {
     "end_time": "2024-06-05T04:39:29.248132Z",
     "start_time": "2024-06-05T04:39:29.237075Z"
    }
   },
   "cell_type": "code",
   "source": [
    "''' Measure episode length '''\n",
    "episode_len = []\n",
    "last = 0\n",
    "count = 0\n",
    "for i, item in enumerate(data['terminals']):\n",
    "    if item:\n",
    "        episode_len.append(i - last)\n",
    "        if i - last < 5:\n",
    "            count += 1\n",
    "            print(i, last)\n",
    "        last = i\n",
    "print(\"Mean: \", np.mean(episode_len))\n",
    "print(\"STD: \", np.std(episode_len))\n",
    "print(\"Max: \", np.max(episode_len))\n",
    "print(\"Min: \", np.min(episode_len))\n",
    "print(count)"
   ],
   "id": "5fdaceda5c869e35",
   "execution_count": 730,
   "outputs": []
  },
  {
   "metadata": {
    "ExecuteTime": {
     "end_time": "2024-06-05T04:39:29.251314Z",
     "start_time": "2024-06-05T04:39:29.249015Z"
    }
   },
   "cell_type": "code",
   "source": [
    "''' Measure action size '''\n",
    "print(\"Max: \", np.max(data['actions'][:, 0]))\n",
    "print(\"Min: \", np.min(data['actions'][:, 0]))"
   ],
   "id": "4c30d3a874bb0d06",
   "execution_count": 731,
   "outputs": []
  },
  {
   "metadata": {
    "ExecuteTime": {
     "end_time": "2024-06-05T04:39:29.253655Z",
     "start_time": "2024-06-05T04:39:29.252081Z"
    }
   },
   "cell_type": "code",
   "source": [
    "# plt.figure(figsize=(10, 6))\n",
    "# plt.plot((data['actions'][:,0]+1)/2, marker='o')\n",
    "# plt.xlabel('Steps')\n",
    "# plt.ylabel('Position')\n",
    "# plt.title('Real-time Trajectory with Slow Acceleration and Slow Deceleration')\n",
    "# plt.grid(True)\n",
    "# plt.show()"
   ],
   "id": "d731f2fbc77cfa74",
   "execution_count": 732,
   "outputs": []
  },
  {
   "metadata": {
    "ExecuteTime": {
     "end_time": "2024-06-05T04:39:29.256896Z",
     "start_time": "2024-06-05T04:39:29.254334Z"
    }
   },
   "cell_type": "code",
   "source": [
    "''' Normalize state and desired goal '''\n",
    "# def normalize(data, mean, std):\n",
    "#     std = np.where(std == 0, 1, std)\n",
    "#     return (data-mean)/std\n",
    "# \n",
    "# goal_mean = np.mean(data['desired_goals'], axis=0)\n",
    "# goal_std = np.std(data['desired_goals'], axis=0)\n",
    "# desired_goal_norm = normalize(data['desired_goals'], goal_mean, goal_std)\n",
    "# data['desired_goals'] = desired_goal_norm\n",
    "# desired_goal_norm_param = {\n",
    "#     'mean': goal_mean,\n",
    "#     'std': goal_std,\n",
    "# }\n",
    "# \n",
    "# obs_mean = np.mean(data['observations'], axis=0)\n",
    "# obs_std = np.std(data['observations'], axis=0)\n",
    "# obs_norm = normalize(data['observations'], obs_mean, obs_std)\n",
    "# data['observations'] = obs_norm\n",
    "# obs_norm_param = {\n",
    "#     'mean': obs_mean,\n",
    "#     'std': obs_std,\n",
    "# }"
   ],
   "id": "633c3b460d49c764",
   "execution_count": 733,
   "outputs": []
  },
  {
   "metadata": {
    "ExecuteTime": {
     "end_time": "2024-06-08T10:32:02.028166Z",
     "start_time": "2024-06-08T10:32:01.812567Z"
    }
   },
   "cell_type": "code",
   "source": [
    "pickle_file_path = '/Users/qiyangyan/Desktop/Diffusion/Demonstration/rotation_start_pose_prediction_dataset'\n",
    "data = load_pickle(pickle_file_path)\n",
    "for key in data.keys():\n",
    "    print(np.shape(data[key]))\n",
    "\n",
    "# Plot target pose region\n",
    "def quaternion_to_yaw(w1, w2, w3, w4):\n",
    "    # Quaternion to euler angle (yaw)\n",
    "    siny_cosp = 2 * (w4 * w3 + w1 * w2)\n",
    "    cosy_cosp = 1 - 2 * (w2 * w2 + w3 * w3)\n",
    "    yaw = np.arctan2(siny_cosp, cosy_cosp)\n",
    "    return yaw\n",
    "\n",
    "plt.figure()\n",
    "count = 0\n",
    "\n",
    "for i in range(20):\n",
    "    # Extract x, y, z and quaternion angle from the desired goals\n",
    "    goal = data['actions'][i]\n",
    "    x, y, z, w1, w2, w3, w4 = goal\n",
    "\n",
    "    # Convert quaternion to yaw angle\n",
    "    angle = quaternion_to_yaw(w1, w2, w3, w4)\n",
    "\n",
    "    # Scatter plot for x and y\n",
    "    plt.scatter(x, y, )\n",
    "\n",
    "    # Calculate direction for quiver (assuming angle is in radians)\n",
    "    u = np.cos(angle)\n",
    "    v = np.sin(angle)\n",
    "\n",
    "    # Quiver for the orientation\n",
    "    plt.quiver(x, y, u, v, angles='xy', scale_units='xy', scale=500, color='b')\n",
    "\n",
    "    # if count > 10:\n",
    "    #     break\n",
    "\n",
    "print(\"Number of terminal states:\", count)\n",
    "\n",
    "plt.xlabel(\"y\", fontsize='large', fontweight='bold')\n",
    "plt.ylabel(\"x\", fontsize='large', fontweight='bold')\n",
    "plt.title(\"Target Position Distribution\", fontweight='bold')\n",
    "plt.grid(which='major')\n"
   ],
   "id": "35886317d55904c1",
   "execution_count": 32,
   "outputs": []
  },
  {
   "metadata": {
    "ExecuteTime": {
     "end_time": "2024-06-05T04:40:41.672928Z",
     "start_time": "2024-06-05T04:39:29.260162Z"
    }
   },
   "cell_type": "code",
   "source": [
    "''' Plot target pose region '''\n",
    "plt.figure()\n",
    "count = 0\n",
    "for i, item in enumerate(data['terminals']):\n",
    "    if item:\n",
    "        plt.scatter(data['desired_goals'][i][0], data['desired_goals'][i][1], s=2)\n",
    "        # print(data['desired_goals'][i])\n",
    "        count += 1\n",
    "    # if count > 50:\n",
    "    #     break\n",
    "print(count)\n",
    "plt.xlabel(\"y\", fontsize='large', fontweight='bold')\n",
    "plt.ylabel(\"x\", fontsize='large', fontweight='bold')\n",
    "plt.title(\"Target Position Distribution\", fontweight='bold')\n",
    "plt.grid(which='major')\n",
    "file_path = \"/Users/qiyangyan/Desktop/Training Files/Real4/Real4/demonstration/target_position_distribution.png\"\n",
    "# plt.savefig(file_path)\n",
    "# plt.close()  # Good practice to close the plot to free resources\n",
    "print(\"Plot saved successfully.\")\n",
    "\n",
    "# path = '/Users/qiyangyan/Desktop/Training Files/Real4/Real4/result/VariableFriction.pth'\n",
    "# data = torch.load(path, map_location=torch.device('cpu'))\n",
    "# print(data.keys())\n",
    "# print(data['state_normalizer_mean'], data['state_normalizer_std'])"
   ],
   "id": "a0760978ab49e8de",
   "execution_count": 735,
   "outputs": []
  },
  {
   "metadata": {
    "ExecuteTime": {
     "end_time": "2024-06-05T04:40:41.674027Z",
     "start_time": "2024-06-05T04:40:41.673959Z"
    }
   },
   "cell_type": "code",
   "source": [
    "''' Print actions '''\n",
    "# for i in range(10):\n",
    "#     print(data['actions'][i])"
   ],
   "id": "18fa2407584b07f",
   "execution_count": null,
   "outputs": []
  },
  {
   "metadata": {},
   "cell_type": "code",
   "source": [
    "''' Plot target pose region '''\n",
    "pickle_file_path = '/Users/qiyangyan/Desktop/Diffusion/Demonstration/VFF-bigSteps-2000demos-randomise'\n",
    "data = load_pickle(pickle_file_path)\n",
    "plt.figure()\n",
    "count = 0\n",
    "for i, item in enumerate(data['terminals']):\n",
    "    if item:\n",
    "        plt.scatter(data['desired_goals'][i][0], data['desired_goals'][i][1])\n",
    "        print(data['desired_goals'][i])\n",
    "        count += 1\n",
    "    if count > 5:\n",
    "        break\n",
    "print(count)\n",
    "plt.xlabel(\"y\", fontsize='large', fontweight='bold')\n",
    "plt.ylabel(\"x\", fontsize='large', fontweight='bold')\n",
    "plt.title(\"Target Position Distribution\", fontweight='bold')\n",
    "# plt.xlim([-2, 2])\n",
    "# plt.ylim([-4, 2.5])\n",
    "plt.grid(which='major')\n",
    "file_path = \"/Users/qiyangyan/Desktop/Training Files/Real4/Real4/demonstration/target_position_distribution.png\"\n",
    "# plt.savefig(file_path)\n",
    "# plt.close()  # Good practice to close the plot to free resources\n",
    "# print(\"Plot saved successfully.\")\n",
    "\n",
    "path = '/Users/qiyangyan/Desktop/Training Files/Real4/Real4/result/VariableFriction.pth'\n",
    "data = torch.load(path, map_location=torch.device('cpu'))\n",
    "print(data.keys())\n",
    "print(data['state_normalizer_mean'], data['state_normalizer_std'])"
   ],
   "id": "1796120061e86ad2",
   "execution_count": null,
   "outputs": []
  },
  {
   "metadata": {},
   "cell_type": "code",
   "source": "",
   "id": "7cbb4514afd15ec8",
   "execution_count": null,
   "outputs": []
  }
 ],
 "metadata": {
  "kernelspec": {
   "display_name": "Python 3 (ipykernel)",
   "language": "python",
   "name": "python3"
  },
  "language_info": {
   "codemirror_mode": {
    "name": "ipython",
    "version": 2
   },
   "file_extension": ".py",
   "mimetype": "text/x-python",
   "name": "python",
   "nbconvert_exporter": "python",
   "pygments_lexer": "ipython2",
   "version": "2.7.6"
  }
 },
 "nbformat": 4,
 "nbformat_minor": 5
}
