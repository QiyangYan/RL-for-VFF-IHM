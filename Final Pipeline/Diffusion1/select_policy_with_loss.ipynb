{
 "cells": [
  {
   "metadata": {
    "ExecuteTime": {
     "end_time": "2024-06-05T03:53:51.030736Z",
     "start_time": "2024-06-05T03:53:51.024865Z"
    }
   },
   "cell_type": "code",
   "source": [
    "import pickle\n",
    "import matplotlib.pyplot as plt\n",
    "import numpy as np"
   ],
   "id": "b2a78a0c00dbe52d",
   "execution_count": 153,
   "outputs": []
  },
  {
   "cell_type": "code",
   "id": "initial_id",
   "metadata": {
    "collapsed": true,
    "ExecuteTime": {
     "end_time": "2024-06-05T03:53:51.060236Z",
     "start_time": "2024-06-05T03:53:51.056686Z"
    }
   },
   "source": [
    "' Slide Only '\n",
    "# dir = '/Users/qiyangyan/Desktop/Diffusion/Policies/models_27_1024/loss_loss_slide_2.pkl'\n",
    "# dir = '/Users/qiyangyan/Desktop/Diffusion/Policies/models_8/loss_loss.pkl'\n",
    "# dir = '/Users/qiyangyan/Desktop/Diffusion/Policies/models_11/loss_loss.pkl'\n",
    "# dir = '/Users/qiyangyan/Desktop/Diffusion/Policies/models_5/loss_loss.pkl'\n",
    "# dir = '/Users/qiyangyan/Desktop/Diffusion/Policies/models_29_2048/loss_loss_slide_2.pkl'\n",
    "# dir = '/Users/qiyangyan/Desktop/Diffusion/Policies/models_32_2048/loss_loss.pkl'\n",
    "# dir = '/Users/qiyangyan/Desktop/Diffusion/Policies/models_31_2048/loss_loss_end_1.pkl'\n",
    "\n",
    "' E2E '\n",
    "# dir = '/Users/qiyangyan/Desktop/Diffusion/Policies/models_21_1024_1/loss_loss_E2E_2.pkl'\n",
    "# dir = '/Users/qiyangyan/Desktop/Diffusion/Policies/models_21_1024_1/loss_loss_slide_2.pkl'\n",
    "# dir = '/Users/qiyangyan/Desktop/Diffusion/Policies/models_21_1024_1/loss_loss_rotation.pkl'\n",
    "\n",
    "# dir = '/Users/qiyangyan/Desktop/Diffusion/Policies/models_20_1024/loss_loss_E2E_1.pkl'\n",
    "# dir = '/Users/qiyangyan/Desktop/Diffusion/Policies/models_20_1024/loss_loss_slide_1.pkl'\n",
    "\n",
    "# dir = '/Users/qiyangyan/Desktop/Diffusion/Policies/models_19_1024/loss_loss_E2E.pkl'\n",
    "# dir = '/Users/qiyangyan/Desktop/Diffusion/Policies/models_19_1024/loss_loss_slide.pkl'\n",
    "\n",
    "# dir = '/Users/qiyangyan/Desktop/Diffusion/Policies/models_33_2048/loss_loss_rotation.pkl'\n",
    "# dir = '/Users/qiyangyan/Desktop/Diffusion/Policies/models_33_2048/loss_loss_slide.pkl'\n",
    "# dir_1 = '/Users/qiyangyan/Desktop/Diffusion/Policies/models_33_2048/loss_loss_slide_1.pkl'\n",
    "# dir = '/Users/qiyangyan/Desktop/Diffusion/Policies/models_33_2048/loss_loss_E2E_2.pkl'\n",
    "# dir = '/Users/qiyangyan/Desktop/Diffusion/Policies/models_33_2048/loss_loss_slide_2.pkl'\n",
    "\n",
    "# dir = '/Users/qiyangyan/Desktop/Diffusion/Policies/models_34_2048/loss_loss_E2E_2.pkl'\n",
    "# dir = '/Users/qiyangyan/Desktop/Diffusion/Policies/models_34_2048/loss_loss_rotation.pkl'\n",
    "# dir = '/Users/qiyangyan/Desktop/Diffusion/Policies/models_34_2048/loss_loss_slide.pkl'\n",
    "\n",
    "# dir = '/Users/qiyangyan/Desktop/Diffusion/Policies/models_41_1024/loss_loss_slide.pkl'\n",
    "# dir = '/Users/qiyangyan/Desktop/Diffusion/Policies/models_39_1024/loss_loss_slide.pkl'\n",
    "# dir = '/Users/qiyangyan/Desktop/Diffusion/Policies/models_38_1024/loss_loss_slide_1.pk\n",
    "\n",
    "# dir = '/Users/qiyangyan/Desktop/Diffusion/Policies/models_46_1024/loss_loss_test.pkl'\n",
    "# dir = '/Users/qiyangyan/Desktop/Diffusion/Policies/models_53_1024/loss_loss_slide.pkl'\n",
    "# dir = '/Users/qiyangyan/Desktop/Diffusion/Policies/models_46_1024/loss_loss_test.pkl'\n",
    "dir = '/Users/qiyangyan/Desktop/Diffusion/Policies/models_47_1024/loss_loss_test.pkl'\n",
    "\n",
    "' Rotation Only '\n",
    "# dir = '/Users/qiyangyan/Desktop/Diffusion/Policies/models_26_1024/loss_loss.pkl'\n",
    "\n",
    "# dir = '/Users/qiyangyan/Desktop/Diffusion/Policies/models_4/loss_loss.pkl'\n",
    "with open(dir, 'rb') as f:\n",
    "    loss_list_ = pickle.load(f)\n",
    "# with open(dir_1, 'rb') as f:\n",
    "#     loss_list_1 = pickle.load(f)\n",
    "# loss_list_ = loss_list_[:20]\n",
    "# loss_list = np.concatenate([loss_list, loss_list_1])"
   ],
   "execution_count": 154,
   "outputs": []
  },
  {
   "metadata": {
    "ExecuteTime": {
     "end_time": "2024-06-05T03:53:51.063076Z",
     "start_time": "2024-06-05T03:53:51.061519Z"
    }
   },
   "cell_type": "code",
   "source": [
    "# min_idx = loss_list.index(min(loss_list))\n",
    "# print(\"Minimum idx: \", min_idx+1, min(loss_list))"
   ],
   "id": "8fda2c73d8f27dc9",
   "execution_count": 155,
   "outputs": []
  },
  {
   "metadata": {
    "ExecuteTime": {
     "end_time": "2024-06-05T03:53:51.069045Z",
     "start_time": "2024-06-05T03:53:51.063859Z"
    }
   },
   "cell_type": "code",
   "source": [
    "def plot_loss(loss_list):\n",
    "    if len(np.shape(loss_list)) == 2:\n",
    "        indices_mean = np.argsort(np.array(loss_list)[:, 0])[:10]  # Get indices of the smallest 10 values\n",
    "        indices_std = np.argsort(np.array(loss_list)[:, 1])[:10]  # Get indices of the smallest 10 values\n",
    "        print(\"Indices of the smallest mean 10 values:\", indices_mean+1)\n",
    "        print(\"Indices of the smallest std 10 values:\", indices_std+1)\n",
    "    \n",
    "        # plt.figure(figsize=(10, 5))  # Set the figure size (optional)\n",
    "        # plt.plot(loss_list, marker='o', linestyle='-', color='b')  # Plot the loss list\n",
    "        std_scale = 15\n",
    "        means = [loss[0] for loss in loss_list]\n",
    "        stds = [loss[1]/std_scale for loss in loss_list]\n",
    "        # stds = stds / 2\n",
    "        # plt.errorbar(range(len(means)), means, yerr=stds, fmt='o-', color='b', ecolor='lightgray', elinewidth=3,\n",
    "        #              capsize=1, label='Mean ± Std')\n",
    "        plt.plot(range(len(means)), means, color='b', label='Mean Loss')  # Plot mean\n",
    "        plt.fill_between(range(len(means)), np.array(means) - np.array(stds), np.array(means) + np.array(stds), color='cornflowerblue', alpha=0.2)  # Shaded area for std\n",
    "        plt.title(f'Loss vs. Training Epochs (mean + std/{std_scale})')  # Title of the plot\n",
    "        plt.xlabel('Epoch Index')  # Label for the x-axis\n",
    "        plt.ylabel('Loss')  # Label for the y-axis\n",
    "        plt.grid(True)  # Add grid for better readability\n",
    "        plt.show(block=False)\n",
    "    else:\n",
    "        indices = np.argsort(loss_list)[:10]  # Get indices of the smallest 10 values\n",
    "        print(\"Indices of the smallest mean 10 values:\", indices)\n",
    "        \n",
    "        plt.figure(figsize=(10, 5))  # Set the figure size (optional)\n",
    "        plt.plot(loss_list, marker='o', linestyle='-', color='b')  # Plot the loss list\n",
    "        # plt.ylim(0, 0.0000025)\n",
    "        plt.title('Loss vs. Epochs')  # Title of the plot\n",
    "        plt.xlabel('Epoch Index')  # Label for the x-axis\n",
    "        plt.ylabel('Loss')  # Label for the y-axis\n",
    "        plt.grid(True)  # Add grid for better readability\n",
    "        plt.show()  # Display the plot"
   ],
   "id": "d74151c00a0a6fac",
   "execution_count": 156,
   "outputs": []
  },
  {
   "metadata": {
    "ExecuteTime": {
     "end_time": "2024-06-05T03:53:51.155317Z",
     "start_time": "2024-06-05T03:53:51.071424Z"
    }
   },
   "cell_type": "code",
   "source": "plot_loss(loss_list_)",
   "id": "81728c7d361ec382",
   "execution_count": 157,
   "outputs": []
  },
  {
   "metadata": {
    "ExecuteTime": {
     "end_time": "2024-06-05T03:53:51.158917Z",
     "start_time": "2024-06-05T03:53:51.156701Z"
    }
   },
   "cell_type": "code",
   "source": [
    "# dir_list = [\n",
    "#     '/Users/qiyangyan/Desktop/Diffusion/Policies/models_20_1024/loss_loss_E2E_1.pkl',\n",
    "#     '/Users/qiyangyan/Desktop/Diffusion/Policies/models_21_1024_1/loss_loss_E2E_2.pkl',\n",
    "#     '/Users/qiyangyan/Desktop/Diffusion/Policies/models_33_2048/loss_loss_E2E_2.pkl',\n",
    "#     '/Users/qiyangyan/Desktop/Diffusion/Policies/models_34_2048/loss_loss_E2E_2.pkl'\n",
    "# ]\n",
    "# \n",
    "# name = [\n",
    "#     \"20: E2E, 5k, 1024\",\n",
    "#     \"21_1: E2E, 10k, 1024\",\n",
    "#     \"33: E2E, 10k, 2048\",\n",
    "#     \"34: E2E, 10k, 2048, norm\"\n",
    "# ]"
   ],
   "id": "10ea4d5efbb89397",
   "execution_count": 158,
   "outputs": []
  },
  {
   "metadata": {},
   "cell_type": "markdown",
   "source": "# Sliding Comparison",
   "id": "2dafdbaccd12397a"
  },
  {
   "metadata": {
    "ExecuteTime": {
     "end_time": "2024-06-05T03:53:51.161987Z",
     "start_time": "2024-06-05T03:53:51.159815Z"
    }
   },
   "cell_type": "code",
   "source": [
    "# dir_list = [\n",
    "#     '/Users/qiyangyan/Desktop/Diffusion/Policies/models_20_1024/loss_loss_slide_1.pkl',\n",
    "#     '/Users/qiyangyan/Desktop/Diffusion/Policies/models_21_1024_1/loss_loss_slide_2.pkl',\n",
    "#     '/Users/qiyangyan/Desktop/Diffusion/Policies/models_33_2048/loss_loss_slide_2.pkl',\n",
    "#     '/Users/qiyangyan/Desktop/Diffusion/Policies/models_34_2048/loss_loss_slide_2.pkl',\n",
    "#     '/Users/qiyangyan/Desktop/Diffusion/Policies/models_27_1024/loss_loss_slide_2.pkl',\n",
    "#     '/Users/qiyangyan/Desktop/Diffusion/Policies/models_38_1024/loss_loss_slide_1.pkl',\n",
    "#     '/Users/qiyangyan/Desktop/Diffusion/Policies/models_29_2048/loss_loss_slide_2.pkl',\n",
    "#     '/Users/qiyangyan/Desktop/Diffusion/Policies/models_32_2048/loss_loss_slide_2.pkl',\n",
    "# ]\n",
    "# \n",
    "# name = [\n",
    "#     \"20: E2E's slide, 5k, 1024\",\n",
    "#     \"21_1: E2E's slide, 10k, 1024\",\n",
    "#     \"33: E2E's slide, 10k, 2048\",\n",
    "#     \"34: E2E's slide, 10k, 2048, norm\",\n",
    "#     \"27: slide, 10k, 1024\",\n",
    "#     \"38: slide, 10k, 1024, norm\",\n",
    "#     \"29: slide, 10k, 2048\",\n",
    "#     \"32: slide, 10k, 2048, norm\",\n",
    "# ]"
   ],
   "id": "87f918571695d7ef",
   "execution_count": 159,
   "outputs": []
  },
  {
   "metadata": {},
   "cell_type": "markdown",
   "source": "# Network Size Comparison",
   "id": "d99038c66c672cb7"
  },
  {
   "metadata": {
    "ExecuteTime": {
     "end_time": "2024-06-05T03:53:51.165696Z",
     "start_time": "2024-06-05T03:53:51.163849Z"
    }
   },
   "cell_type": "code",
   "source": [
    "# dir_list = [\n",
    "#     '/Users/qiyangyan/Desktop/Diffusion/Policies/models_38_1024/loss_loss_slide_1.pkl',\n",
    "#     '/Users/qiyangyan/Desktop/Diffusion/Policies/models_32_2048/loss_loss_slide_2.pkl',\n",
    "# ]\n",
    "# \n",
    "# name = [\n",
    "#     \"38: slide, 10k, 1024, norm\",\n",
    "#     \"32: slide, 10k, 2048, norm\",\n",
    "# ]"
   ],
   "id": "e9f313cb83e94d0b",
   "execution_count": 160,
   "outputs": []
  },
  {
   "metadata": {},
   "cell_type": "markdown",
   "source": "# E2E Comparison",
   "id": "f39738c638c1bcda"
  },
  {
   "metadata": {
    "ExecuteTime": {
     "end_time": "2024-06-05T03:53:51.168450Z",
     "start_time": "2024-06-05T03:53:51.166737Z"
    }
   },
   "cell_type": "code",
   "source": [
    "# dir_list = [\n",
    "#     '/Users/qiyangyan/Desktop/Diffusion/Policies/models_28_1024/loss_loss_end.pkl',\n",
    "#     '/Users/qiyangyan/Desktop/Diffusion/Policies/models_31_2048/loss_loss_end_1.pkl',\n",
    "#     '/Users/qiyangyan/Desktop/Diffusion/Policies/models_35_2048/loss_loss_end.pkl'\n",
    "# ]\n",
    "# \n",
    "# name = [\n",
    "#     '28: 10k, 1024',\n",
    "#     '31: 10k, 2048',\n",
    "#     '35: 10k, 2048, norm'\n",
    "# ]"
   ],
   "id": "afc045486d7f0264",
   "execution_count": 161,
   "outputs": []
  },
  {
   "metadata": {},
   "cell_type": "markdown",
   "source": "# E2E Seperate Task Performance",
   "id": "c250887745e601fd"
  },
  {
   "metadata": {
    "ExecuteTime": {
     "end_time": "2024-06-05T03:53:51.170651Z",
     "start_time": "2024-06-05T03:53:51.169181Z"
    }
   },
   "cell_type": "code",
   "source": [
    "# dir_list = [\n",
    "#     '/Users/qiyangyan/Desktop/Diffusion/Policies/models_33_2048/loss_loss_slide_2.pkl',\n",
    "#     '/Users/qiyangyan/Desktop/Diffusion/Policies/models_33_2048/loss_loss_rotation_2.pkl',\n",
    "#     '/Users/qiyangyan/Desktop/Diffusion/Policies/models_33_2048/loss_loss_E2E_2.pkl',\n",
    "# ]\n",
    "# name = [\n",
    "#     '33: Slide',\n",
    "#     '33: Rotate',\n",
    "#     '33: E2E'\n",
    "# ]"
   ],
   "id": "bdb9ff219b3b917e",
   "execution_count": 162,
   "outputs": []
  },
  {
   "metadata": {
    "ExecuteTime": {
     "end_time": "2024-06-05T03:53:51.173198Z",
     "start_time": "2024-06-05T03:53:51.171383Z"
    }
   },
   "cell_type": "code",
   "source": [
    "# dir_list = [\n",
    "#     '/Users/qiyangyan/Desktop/Diffusion/Policies/models_34_2048/loss_loss_slide_2.pkl',\n",
    "#     '/Users/qiyangyan/Desktop/Diffusion/Policies/models_34_2048/loss_loss_rotation_2.pkl',\n",
    "#     '/Users/qiyangyan/Desktop/Diffusion/Policies/models_34_2048/loss_loss_E2E_2.pkl',\n",
    "# ]\n",
    "# \n",
    "# name = [\n",
    "#     '34: Slide',\n",
    "#     '34: Rotate',\n",
    "#     '34: E2E'\n",
    "# ]"
   ],
   "id": "dda4bfb9c7ed6974",
   "execution_count": 163,
   "outputs": []
  },
  {
   "metadata": {
    "ExecuteTime": {
     "end_time": "2024-06-05T03:53:51.175247Z",
     "start_time": "2024-06-05T03:53:51.173866Z"
    }
   },
   "cell_type": "code",
   "source": [
    "# dir_list = [\n",
    "#     '/Users/qiyangyan/Desktop/Diffusion/Policies/models_20_1024/loss_loss_slide_1.pkl',\n",
    "#     '/Users/qiyangyan/Desktop/Diffusion/Policies/models_20_1024/loss_loss_rotation_2.pkl',\n",
    "#     '/Users/qiyangyan/Desktop/Diffusion/Policies/models_20_1024/loss_loss_E2E_1.pkl',\n",
    "# ]\n",
    "# \n",
    "# name = [\n",
    "#     '20: Slide',\n",
    "#     '20: Rotate',\n",
    "#     '20: E2E'\n",
    "# ]"
   ],
   "id": "15c6ad97d1f44fc5",
   "execution_count": 164,
   "outputs": []
  },
  {
   "metadata": {
    "ExecuteTime": {
     "end_time": "2024-06-05T03:53:51.177382Z",
     "start_time": "2024-06-05T03:53:51.175850Z"
    }
   },
   "cell_type": "code",
   "source": [
    "# dir_list = [\n",
    "#     '/Users/qiyangyan/Desktop/Diffusion/Policies/models_21_1024_1/loss_loss_slide_2.pkl',\n",
    "#     '/Users/qiyangyan/Desktop/Diffusion/Policies/models_21_1024_1/loss_loss_rotation_2.pkl',\n",
    "#     '/Users/qiyangyan/Desktop/Diffusion/Policies/models_21_1024_1/loss_loss_E2E_2.pkl',\n",
    "# ]\n",
    "# \n",
    "# name = [\n",
    "#     '21: Slide',\n",
    "#     '21: Rotate',\n",
    "#     '21: E2E'\n",
    "# ]"
   ],
   "id": "a85ca621d6def259",
   "execution_count": 165,
   "outputs": []
  },
  {
   "metadata": {},
   "cell_type": "markdown",
   "source": "",
   "id": "26061babda92f57d"
  },
  {
   "metadata": {
    "ExecuteTime": {
     "end_time": "2024-06-05T03:53:51.181089Z",
     "start_time": "2024-06-05T03:53:51.179167Z"
    }
   },
   "cell_type": "code",
   "source": [
    "dir_list = [\n",
    "    '/Users/qiyangyan/Desktop/Diffusion/Policies/models_48_1024/loss_loss_test.pkl',\n",
    "    '/Users/qiyangyan/Desktop/Diffusion/Policies/models_51_1024/loss_loss_end.pkl'\n",
    "]\n",
    "\n",
    "name = [\n",
    "    '48',\n",
    "    '51'\n",
    "]"
   ],
   "id": "8b0a8e701a8368d5",
   "execution_count": 166,
   "outputs": []
  },
  {
   "metadata": {},
   "cell_type": "markdown",
   "source": "# Norm Method Comparison",
   "id": "4af8e5c9bb5f9055"
  },
  {
   "metadata": {
    "ExecuteTime": {
     "end_time": "2024-06-05T03:53:51.183534Z",
     "start_time": "2024-06-05T03:53:51.181861Z"
    }
   },
   "cell_type": "code",
   "source": [
    "# dir_list = [\n",
    "#     '/Users/qiyangyan/Desktop/Diffusion/Policies/models_38_1024/loss_loss_slide_1.pkl',\n",
    "#     '/Users/qiyangyan/Desktop/Diffusion/Policies/models_42_1024/loss_loss_slide.pkl',\n",
    "# ]\n",
    "# \n",
    "# name = [\n",
    "#     '38: 10k, 1024, obs norm (mean, std)',\n",
    "#     '42: 10k, 1024, obs norm (max min)'\n",
    "# ]"
   ],
   "id": "7836532abb3a054b",
   "execution_count": 167,
   "outputs": []
  },
  {
   "metadata": {},
   "cell_type": "markdown",
   "source": "",
   "id": "f1d5c4aa47736069"
  },
  {
   "metadata": {},
   "cell_type": "markdown",
   "source": "# Plot",
   "id": "13b5311fd8e21b09"
  },
  {
   "metadata": {
    "ExecuteTime": {
     "end_time": "2024-06-05T03:53:51.292739Z",
     "start_time": "2024-06-05T03:53:51.184092Z"
    }
   },
   "cell_type": "code",
   "source": [
    "std_scale = 15\n",
    "plt.figure(figsize=(10, 5))  # Set the figure size (optional)\n",
    "plt.title(f'Loss vs. Training Epochs (mean + std/{std_scale})')  # Title of the plot\n",
    "plt.xlabel('Epoch Index')  # Label for the x-axis\n",
    "plt.ylabel('Loss')  # Label for the y-axis\n",
    "plt.grid(True)  # Add grid for better readability\n",
    "\n",
    "for i, dir in enumerate(dir_list): \n",
    "    with open(dir, 'rb') as f:\n",
    "        loss_list = pickle.load(f)\n",
    "    \n",
    "    print(name[i])\n",
    "    if len(np.shape(loss_list)) == 2:\n",
    "        indices_mean = np.argsort(np.array(loss_list)[:, 0])[:10]  # Get indices of the smallest 10 values\n",
    "        indices_std = np.argsort(np.array(loss_list)[:, 1])[:10]  # Get indices of the smallest 10 values\n",
    "        print(\"Indices of the smallest mean 10 values:\", indices_mean+1)\n",
    "        print(\"Indices of the smallest std 10 values:\", indices_std+1)\n",
    "        \n",
    "        means = [loss[0] for loss in loss_list]\n",
    "        stds = [loss[1]/std_scale for loss in loss_list]\n",
    "        plt.plot(range(len(means)), means, label=name[i])  # Plot mean\n",
    "        plt.fill_between(range(len(means)), np.array(means) - np.array(stds), np.array(means) + np.array(stds), alpha=0.2)  # Shaded area for std\n",
    "    else:\n",
    "        indices = np.argsort(loss_list)[:10]  # Get indices of the smallest 10 values\n",
    "        print(\"Indices of the smallest mean 10 values:\", indices)\n",
    "        plt.plot(loss_list, marker='o', linestyle='-', color='b')  # Plot the loss list\n",
    "plt.legend()\n",
    "plt.show()"
   ],
   "id": "4ee90db3a4d33b7c",
   "execution_count": 168,
   "outputs": []
  }
 ],
 "metadata": {
  "kernelspec": {
   "display_name": "Python 3",
   "language": "python",
   "name": "python3"
  },
  "language_info": {
   "codemirror_mode": {
    "name": "ipython",
    "version": 2
   },
   "file_extension": ".py",
   "mimetype": "text/x-python",
   "name": "python",
   "nbconvert_exporter": "python",
   "pygments_lexer": "ipython2",
   "version": "2.7.6"
  }
 },
 "nbformat": 4,
 "nbformat_minor": 5
}
