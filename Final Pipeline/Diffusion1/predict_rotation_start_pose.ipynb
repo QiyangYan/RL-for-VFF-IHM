{
 "cells": [
  {
   "metadata": {
    "ExecuteTime": {
     "end_time": "2024-06-08T10:34:33.002767Z",
     "start_time": "2024-06-08T10:34:32.993710Z"
    }
   },
   "cell_type": "code",
   "source": [
    "import pickle\n",
    "import numpy as np\n",
    "import torch\n",
    "import matplotlib.pyplot as plt\n",
    "import os"
   ],
   "id": "4cd3b4b9183bf70e",
   "execution_count": 142,
   "outputs": []
  },
  {
   "metadata": {
    "ExecuteTime": {
     "end_time": "2024-06-08T10:34:33.009027Z",
     "start_time": "2024-06-08T10:34:33.005470Z"
    }
   },
   "cell_type": "code",
   "source": [
    "def load_pickle(file_path):\n",
    "    try:\n",
    "        with open(file_path, 'rb') as file:\n",
    "            data = pickle.load(file)\n",
    "            return data\n",
    "    except Exception as e:\n",
    "        print(f\"An error occurred: {e}\")\n",
    "        return None"
   ],
   "id": "f8f2449c285ed89b",
   "execution_count": 143,
   "outputs": []
  },
  {
   "metadata": {
    "ExecuteTime": {
     "end_time": "2024-06-08T10:34:33.017322Z",
     "start_time": "2024-06-08T10:34:33.013749Z"
    }
   },
   "cell_type": "code",
   "source": [
    "def save_as_pickle(data, filename, directory='/Users/qiyangyan/Desktop/Diffusion/Demonstration'):\n",
    "    os.makedirs(directory, exist_ok=True)\n",
    "    full_path = os.path.join(directory, filename)\n",
    "\n",
    "    try:\n",
    "        with open(full_path, 'wb') as file:\n",
    "            pickle.dump(data, file)\n",
    "        # print(full_path)\n",
    "        print(f\"Data successfully saved to {full_path}\")\n",
    "    except Exception as e:\n",
    "        print(f\"An error occurred while saving data: {e}\")"
   ],
   "id": "a27a15de1716246c",
   "execution_count": 144,
   "outputs": []
  },
  {
   "metadata": {
    "ExecuteTime": {
     "end_time": "2024-06-08T10:34:33.027340Z",
     "start_time": "2024-06-08T10:34:33.019053Z"
    }
   },
   "cell_type": "code",
   "source": [
    "pickle_file_path = '/Users/qiyangyan/Desktop/Diffusion/Demonstration/bigSteps_10k_demos_random_slide'  # Training\n",
    "# pickle_file_path = '/Users/qiyangyan/Desktop/Diffusion/Demonstration/bigSteps_10k_demos_random_slide_testDataset'  # Testing\n",
    "data = load_pickle(pickle_file_path)"
   ],
   "id": "initial_id",
   "execution_count": 145,
   "outputs": []
  },
  {
   "metadata": {
    "ExecuteTime": {
     "end_time": "2024-06-08T10:34:33.031528Z",
     "start_time": "2024-06-08T10:34:33.028522Z"
    }
   },
   "cell_type": "code",
   "source": "print(data.keys())",
   "id": "dc4ae401ef1ddffa",
   "execution_count": 146,
   "outputs": []
  },
  {
   "metadata": {
    "ExecuteTime": {
     "end_time": "2024-06-08T10:34:33.057003Z",
     "start_time": "2024-06-08T10:34:33.036864Z"
    }
   },
   "cell_type": "code",
   "source": [
    "rotation_start_pose_prediction_dataset = {\n",
    "    'observations': [],\n",
    "    'actions': [],\n",
    "    'desired_goals': [],\n",
    "    'next_observations': [],\n",
    "    'sampled_desired_goals': [],\n",
    "    'rewards': [],\n",
    "    'terminals': []\n",
    "}\n",
    "for i, item in enumerate(data['terminals']):\n",
    "    if item == 1:\n",
    "        # predict based on the desired goal\n",
    "        rotation_start_pose_prediction_dataset['observations'].append(data['desired_goals'][i])  \n",
    "        rotation_start_pose_prediction_dataset['actions'].append(data['observations'][i][8:15])\n",
    "\n",
    "for key in rotation_start_pose_prediction_dataset.keys():\n",
    "    rotation_start_pose_prediction_dataset[key] = np.array(rotation_start_pose_prediction_dataset[key])\n",
    "    print(np.shape(rotation_start_pose_prediction_dataset[key]))"
   ],
   "id": "68ba882e47928e70",
   "execution_count": 147,
   "outputs": []
  },
  {
   "metadata": {
    "ExecuteTime": {
     "end_time": "2024-06-08T10:34:33.065496Z",
     "start_time": "2024-06-08T10:34:33.058944Z"
    }
   },
   "cell_type": "code",
   "source": "np.shape(torch.cat([torch.tensor(rotation_start_pose_prediction_dataset['desired_goals']), torch.tensor(rotation_start_pose_prediction_dataset['observations'])], dim=1))",
   "id": "3bb164fc8de92311",
   "execution_count": 148,
   "outputs": []
  },
  {
   "metadata": {},
   "cell_type": "markdown",
   "source": "# Visualisation",
   "id": "de0cf0b06980d784"
  },
  {
   "metadata": {
    "ExecuteTime": {
     "end_time": "2024-06-08T11:14:57.779528Z",
     "start_time": "2024-06-08T11:14:57.683080Z"
    }
   },
   "cell_type": "code",
   "source": [
    "# Plot target pose region\n",
    "def quaternion_to_euler(w1, w2, w3, w4):\n",
    "    # Quaternion to Euler angles (yaw, pitch, roll)\n",
    "    \n",
    "    # Yaw (z-axis rotation)\n",
    "    siny_cosp = 2 * (w4 * w3 + w1 * w2)\n",
    "    cosy_cosp = 1 - 2 * (w2 * w2 + w3 * w3)\n",
    "    yaw = np.arctan2(siny_cosp, cosy_cosp)\n",
    "    \n",
    "    # Pitch (y-axis rotation)\n",
    "    sinp = 2 * (w4 * w2 - w3 * w1)\n",
    "    if abs(sinp) >= 1:\n",
    "        pitch = np.sign(sinp) * np.pi / 2  # use 90 degrees if out of range\n",
    "    else:\n",
    "        pitch = np.arcsin(sinp)\n",
    "    \n",
    "    # Roll (x-axis rotation)\n",
    "    sinr_cosp = 2 * (w4 * w1 + w2 * w3)\n",
    "    cosr_cosp = 1 - 2 * (w1 * w1 + w2 * w2)\n",
    "    roll = np.arctan2(sinr_cosp, cosr_cosp)\n",
    "    \n",
    "    yaw = np.degrees(yaw)\n",
    "    pitch = np.degrees(pitch)\n",
    "    roll = np.degrees(roll)\n",
    "    \n",
    "    return yaw, pitch, roll\n",
    "\n",
    "plt.figure()\n",
    "count = 0\n",
    "\n",
    "# pose_list = rotation_start_pose_prediction_dataset['actions']\n",
    "# pickle_file_path = '/Users/qiyangyan/Desktop/Diffusion/Demonstration/bigSteps_10k_demos_random_slide'  # Training\n",
    "pickle_file_path = '/Users/qiyangyan/Desktop/Diffusion/Demonstration/bigSteps_10000demos_slide'\n",
    "# pickle_file_path = '/Users/qiyangyan/Desktop/Diffusion/Demonstration/VFF-1135demos'\n",
    "data = load_pickle(pickle_file_path)\n",
    "pose_list = data['desired_goals'][:, :7]\n",
    "# print(data['desired_goals'][:2])\n",
    "\n",
    "angle_old = 0\n",
    "for i in range(1):\n",
    "    # Extract x, y, z and quaternion angle from the desired goals\n",
    "    goal = pose_list[i]\n",
    "    x, y, z, w1, w2, w3, w4 = goal\n",
    "\n",
    "    # Convert quaternion to yaw angle\n",
    "    angle = quaternion_to_euler(w1, w2, w3, w4)[2]\n",
    "    if angle == angle_old:\n",
    "        continue\n",
    "    else:\n",
    "        angle_old = angle\n",
    "\n",
    "    # Scatter plot for x and y\n",
    "    plt.scatter(x, y, )\n",
    "    \n",
    "    print(quaternion_to_euler(w1, w2, w3, w4))\n",
    "    # Calculate direction for quiver (assuming angle is in radians)\n",
    "    u = np.cos(angle)\n",
    "    v = np.sin(angle)\n",
    "    \n",
    "    # Quiver for the orientation\n",
    "    plt.quiver(x, y, u, v, angles='xy', scale_units='xy', scale=500, color='b')\n",
    "\n",
    "    # if count > 10:\n",
    "    #     break\n",
    "\n",
    "print(\"Number of terminal states:\", count)\n",
    "\n",
    "plt.xlabel(\"y\", fontsize='large', fontweight='bold')\n",
    "plt.ylabel(\"x\", fontsize='large', fontweight='bold')\n",
    "plt.title(\"Target Position Distribution\", fontweight='bold')\n",
    "plt.grid(which='major')\n"
   ],
   "id": "683038555a62d722",
   "execution_count": 191,
   "outputs": []
  },
  {
   "metadata": {},
   "cell_type": "markdown",
   "source": "# Training Dataset",
   "id": "2a836127af6a18a8"
  },
  {
   "metadata": {
    "ExecuteTime": {
     "end_time": "2024-06-08T10:34:33.396570Z",
     "start_time": "2024-06-08T10:34:33.394562Z"
    }
   },
   "cell_type": "code",
   "source": "# save_as_pickle(rotation_start_pose_prediction_dataset, 'rotation_start_pose_prediction_dataset')",
   "id": "2bf0d04168891073",
   "execution_count": 150,
   "outputs": []
  },
  {
   "metadata": {},
   "cell_type": "markdown",
   "source": "# Testing Dataset",
   "id": "76d5d39820218be3"
  },
  {
   "metadata": {
    "ExecuteTime": {
     "end_time": "2024-06-08T10:34:33.399356Z",
     "start_time": "2024-06-08T10:34:33.397531Z"
    }
   },
   "cell_type": "code",
   "source": "# save_as_pickle(rotation_start_pose_prediction_dataset, 'rotation_start_pose_prediction_dataset_testing')",
   "id": "5deec253298f9d8",
   "execution_count": 151,
   "outputs": []
  }
 ],
 "metadata": {
  "kernelspec": {
   "display_name": "Python 3",
   "language": "python",
   "name": "python3"
  },
  "language_info": {
   "codemirror_mode": {
    "name": "ipython",
    "version": 2
   },
   "file_extension": ".py",
   "mimetype": "text/x-python",
   "name": "python",
   "nbconvert_exporter": "python",
   "pygments_lexer": "ipython2",
   "version": "2.7.6"
  }
 },
 "nbformat": 4,
 "nbformat_minor": 5
}
