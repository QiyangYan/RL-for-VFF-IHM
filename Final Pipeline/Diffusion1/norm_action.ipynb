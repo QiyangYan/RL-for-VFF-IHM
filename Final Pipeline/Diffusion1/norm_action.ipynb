{
 "cells": [
  {
   "metadata": {
    "ExecuteTime": {
     "end_time": "2024-06-01T17:24:37.609368Z",
     "start_time": "2024-06-01T17:24:37.602958Z"
    }
   },
   "cell_type": "code",
   "source": [
    "import pickle\n",
    "import numpy as np\n",
    "import torch\n",
    "import matplotlib.pyplot as plt\n",
    "import os\n",
    "import rotations\n"
   ],
   "id": "aeaeddfa256d81ed",
   "execution_count": 102,
   "outputs": []
  },
  {
   "metadata": {
    "ExecuteTime": {
     "end_time": "2024-06-01T17:24:37.619238Z",
     "start_time": "2024-06-01T17:24:37.615356Z"
    }
   },
   "cell_type": "code",
   "source": [
    "def load_pickle(file_path):\n",
    "    try:\n",
    "        with open(file_path, 'rb') as file:\n",
    "            data = pickle.load(file)\n",
    "            return data\n",
    "    except Exception as e:\n",
    "        print(f\"An error occurred: {e}\")\n",
    "        return None"
   ],
   "id": "4491d23957d61e97",
   "execution_count": 103,
   "outputs": []
  },
  {
   "metadata": {
    "ExecuteTime": {
     "end_time": "2024-06-01T17:24:37.626169Z",
     "start_time": "2024-06-01T17:24:37.620288Z"
    }
   },
   "cell_type": "code",
   "source": [
    "def discretize_action_to_control_mode_E2E(action):\n",
    "    \"\"\"\n",
    "    -1 ~ 1 maps to 0 ~ 1\n",
    "    \"\"\"\n",
    "    # Your action discretization logic here\n",
    "    # print(\"Action: \", action)\n",
    "    action_norm = (action + 1) / 2\n",
    "    # print(action_norm, action)\n",
    "    if 1 / 6 > action_norm >= 0:\n",
    "        # print(\"| Slide up on right finger\")\n",
    "        control_mode = 0\n",
    "        friction_state = 1  # left finger high friction\n",
    "        pos_idx = 0\n",
    "    elif 2 / 6 > action_norm >= 1 / 6:\n",
    "        # print(\"| Slide down on right finger\")\n",
    "        control_mode = 1\n",
    "        friction_state = 1\n",
    "        pos_idx = 1\n",
    "    elif 3 / 6 > action_norm >= 2 / 6:\n",
    "        # print(\"| Slide up on left finger\")\n",
    "        control_mode = 2\n",
    "        friction_state = -1\n",
    "        pos_idx = 1\n",
    "    elif 4 / 6 > action_norm >= 3 / 6:\n",
    "        # print(\"| Slide down on left finger\")\n",
    "        control_mode = 3\n",
    "        friction_state = -1\n",
    "        pos_idx = 0\n",
    "    elif 5 / 6 > action_norm >= 4 / 6:\n",
    "        # print(\"| Rotate clockwise\")\n",
    "        control_mode = 4\n",
    "        friction_state = 0\n",
    "        pos_idx = 0\n",
    "        # print(\"Rotate\")\n",
    "    else:\n",
    "        assert 1 >= action_norm >= 5 / 6, f\"Check: {action_norm}\"\n",
    "        # print(\"| Rotate anticlockwise\")\n",
    "        control_mode = 5\n",
    "        friction_state = 0\n",
    "        pos_idx = 1\n",
    "        # print(pos_idx)\n",
    "        # print(\"Rotate\")\n",
    "    return friction_state, control_mode, pos_idx"
   ],
   "id": "1e33804f3059b0b0",
   "execution_count": 104,
   "outputs": []
  },
  {
   "metadata": {
    "ExecuteTime": {
     "end_time": "2024-06-01T17:24:37.635709Z",
     "start_time": "2024-06-01T17:24:37.627628Z"
    }
   },
   "cell_type": "code",
   "source": [
    "def plot(action, discretize):\n",
    "    \n",
    "    true_action_first_elements = action[:, 0].copy()\n",
    "    true_action_second_elements = action[:, 1].copy()\n",
    "    if len(action[0]) == 3:\n",
    "        true_action_indicator = action[:, 2].copy()\n",
    "        \n",
    "    if discretize is True:\n",
    "        for i, sub_action in enumerate(true_action_second_elements):\n",
    "            true_action_second_elements[i] = discretize_action_to_control_mode_E2E(sub_action)[1]\n",
    "\n",
    "    # Plotting\n",
    "    plt.figure(figsize=(12, 5))\n",
    "\n",
    "    plt.subplot(1, len(action[0]), 1)  # First subplot\n",
    "    indices = list(range(len(true_action_first_elements)))  # Creating a list of indices\n",
    "    plt.scatter(indices, true_action_first_elements, label='True Action First Element', color='orange',\n",
    "                s=10)  # Scatter plot\n",
    "\n",
    "    plt.title('First Element of Actions')\n",
    "    # plt.ylim(-1, 1)\n",
    "    plt.xlabel('Iteration')\n",
    "    plt.ylabel('Value')\n",
    "    plt.legend()\n",
    "\n",
    "    plt.subplot(1, len(action[0]), 2)  # Second subplot\n",
    "    indices = list(range(len(true_action_second_elements)))  # Creating a list of indices\n",
    "    plt.scatter(indices, true_action_second_elements, label='True Action Second Element', color='orange',\n",
    "                s=5)  # Scatter plot\n",
    "\n",
    "    plt.title('Second Element of Actions')\n",
    "    plt.xlabel('Iteration')\n",
    "    plt.ylabel('Value')\n",
    "    plt.legend()\n",
    "\n",
    "    if len(action[0]) == 3:\n",
    "        plt.subplot(1, len(action[0]), 3)  # third subplot\n",
    "        indices = list(range(len(true_action_indicator)))  # Creating a list of indices\n",
    "        plt.scatter(indices, true_action_indicator, label='True Action Third Element', color='orange',\n",
    "                    s=5)  # Scatter plot\n",
    "\n",
    "        plt.title('Third Element of Actions')\n",
    "        plt.xlabel('Iteration')\n",
    "        plt.ylabel('Value')\n",
    "        plt.legend()\n",
    "\n",
    "    plt.tight_layout()\n",
    "    plt.show()"
   ],
   "id": "2a3a2da49ccf07aa",
   "execution_count": 105,
   "outputs": []
  },
  {
   "cell_type": "code",
   "id": "initial_id",
   "metadata": {
    "collapsed": true,
    "ExecuteTime": {
     "end_time": "2024-06-01T17:24:37.652320Z",
     "start_time": "2024-06-01T17:24:37.639679Z"
    }
   },
   "source": [
    "# pickle_file_path = '/Users/qiyangyan/Desktop/Diffusion/Demonstration/VFF-bigSteps-testingDataset'\n",
    "# pickle_file_path = '/Users/qiyangyan/Desktop/Diffusion/Demonstration/bigSteps_10000demos_testingDataset'\n",
    "pickle_file_path = '/Users/qiyangyan/Desktop/Diffusion/Demonstration/bigSteps_10000demos_slide_endIndicator'\n",
    "# pickle_file_path = '/Users/qiyangyan/Desktop/Diffusion/Demonstration/bigSteps_10000demos_slide_endIndicator_testingDataset'\n",
    "data = load_pickle(pickle_file_path)"
   ],
   "execution_count": 106,
   "outputs": []
  },
  {
   "metadata": {
    "ExecuteTime": {
     "end_time": "2024-06-01T17:24:40.440311Z",
     "start_time": "2024-06-01T17:24:37.653944Z"
    }
   },
   "cell_type": "code",
   "source": [
    "plt.figure(figsize=(12, 5))\n",
    "print(len(data['actions']))\n",
    "plot(data['actions'], discretize=True)"
   ],
   "id": "519e39f8c75135b0",
   "execution_count": 107,
   "outputs": []
  },
  {
   "metadata": {
    "ExecuteTime": {
     "end_time": "2024-06-01T17:24:43.149917Z",
     "start_time": "2024-06-01T17:24:40.442130Z"
    }
   },
   "cell_type": "code",
   "source": "plot(data['actions'], discretize=False)",
   "id": "8f8a7ee80190940c",
   "execution_count": 108,
   "outputs": []
  }
 ],
 "metadata": {
  "kernelspec": {
   "display_name": "Python 3",
   "language": "python",
   "name": "python3"
  },
  "language_info": {
   "codemirror_mode": {
    "name": "ipython",
    "version": 2
   },
   "file_extension": ".py",
   "mimetype": "text/x-python",
   "name": "python",
   "nbconvert_exporter": "python",
   "pygments_lexer": "ipython2",
   "version": "2.7.6"
  }
 },
 "nbformat": 4,
 "nbformat_minor": 5
}
